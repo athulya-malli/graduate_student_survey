{
 "cells": [
  {
   "cell_type": "markdown",
   "id": "c5e11ee9",
   "metadata": {},
   "source": [
    "Problem 2"
   ]
  },
  {
   "cell_type": "markdown",
   "id": "7dbff689",
   "metadata": {},
   "source": [
    "The Student News Service at Clear Mountain State University (CMSU) has decided to gather data about the undergraduate students that attend CMSU. CMSU creates and distributes a survey of 14 questions and receives responses from 62 undergraduates (stored in the Survey data set).\n",
    "\n"
   ]
  },
  {
   "cell_type": "code",
   "execution_count": 36,
   "id": "b3496cfa",
   "metadata": {},
   "outputs": [],
   "source": [
    "df_2 = pd.read_csv('Survey-1.csv')"
   ]
  },
  {
   "cell_type": "code",
   "execution_count": 37,
   "id": "834b8afc",
   "metadata": {},
   "outputs": [
    {
     "data": {
      "text/html": [
       "<div>\n",
       "<style scoped>\n",
       "    .dataframe tbody tr th:only-of-type {\n",
       "        vertical-align: middle;\n",
       "    }\n",
       "\n",
       "    .dataframe tbody tr th {\n",
       "        vertical-align: top;\n",
       "    }\n",
       "\n",
       "    .dataframe thead th {\n",
       "        text-align: right;\n",
       "    }\n",
       "</style>\n",
       "<table border=\"1\" class=\"dataframe\">\n",
       "  <thead>\n",
       "    <tr style=\"text-align: right;\">\n",
       "      <th></th>\n",
       "      <th>ID</th>\n",
       "      <th>Gender</th>\n",
       "      <th>Age</th>\n",
       "      <th>Class</th>\n",
       "      <th>Major</th>\n",
       "      <th>Grad Intention</th>\n",
       "      <th>GPA</th>\n",
       "      <th>Employment</th>\n",
       "      <th>Salary</th>\n",
       "      <th>Social Networking</th>\n",
       "      <th>Satisfaction</th>\n",
       "      <th>Spending</th>\n",
       "      <th>Computer</th>\n",
       "      <th>Text Messages</th>\n",
       "    </tr>\n",
       "  </thead>\n",
       "  <tbody>\n",
       "    <tr>\n",
       "      <th>0</th>\n",
       "      <td>1</td>\n",
       "      <td>Female</td>\n",
       "      <td>20</td>\n",
       "      <td>Junior</td>\n",
       "      <td>Other</td>\n",
       "      <td>Yes</td>\n",
       "      <td>2.9</td>\n",
       "      <td>Full-Time</td>\n",
       "      <td>50.0</td>\n",
       "      <td>1</td>\n",
       "      <td>3</td>\n",
       "      <td>350</td>\n",
       "      <td>Laptop</td>\n",
       "      <td>200</td>\n",
       "    </tr>\n",
       "    <tr>\n",
       "      <th>1</th>\n",
       "      <td>2</td>\n",
       "      <td>Male</td>\n",
       "      <td>23</td>\n",
       "      <td>Senior</td>\n",
       "      <td>Management</td>\n",
       "      <td>Yes</td>\n",
       "      <td>3.6</td>\n",
       "      <td>Part-Time</td>\n",
       "      <td>25.0</td>\n",
       "      <td>1</td>\n",
       "      <td>4</td>\n",
       "      <td>360</td>\n",
       "      <td>Laptop</td>\n",
       "      <td>50</td>\n",
       "    </tr>\n",
       "    <tr>\n",
       "      <th>2</th>\n",
       "      <td>3</td>\n",
       "      <td>Male</td>\n",
       "      <td>21</td>\n",
       "      <td>Junior</td>\n",
       "      <td>Other</td>\n",
       "      <td>Yes</td>\n",
       "      <td>2.5</td>\n",
       "      <td>Part-Time</td>\n",
       "      <td>45.0</td>\n",
       "      <td>2</td>\n",
       "      <td>4</td>\n",
       "      <td>600</td>\n",
       "      <td>Laptop</td>\n",
       "      <td>200</td>\n",
       "    </tr>\n",
       "    <tr>\n",
       "      <th>3</th>\n",
       "      <td>4</td>\n",
       "      <td>Male</td>\n",
       "      <td>21</td>\n",
       "      <td>Junior</td>\n",
       "      <td>CIS</td>\n",
       "      <td>Yes</td>\n",
       "      <td>2.5</td>\n",
       "      <td>Full-Time</td>\n",
       "      <td>40.0</td>\n",
       "      <td>4</td>\n",
       "      <td>6</td>\n",
       "      <td>600</td>\n",
       "      <td>Laptop</td>\n",
       "      <td>250</td>\n",
       "    </tr>\n",
       "    <tr>\n",
       "      <th>4</th>\n",
       "      <td>5</td>\n",
       "      <td>Male</td>\n",
       "      <td>23</td>\n",
       "      <td>Senior</td>\n",
       "      <td>Other</td>\n",
       "      <td>Undecided</td>\n",
       "      <td>2.8</td>\n",
       "      <td>Unemployed</td>\n",
       "      <td>40.0</td>\n",
       "      <td>2</td>\n",
       "      <td>4</td>\n",
       "      <td>500</td>\n",
       "      <td>Laptop</td>\n",
       "      <td>100</td>\n",
       "    </tr>\n",
       "  </tbody>\n",
       "</table>\n",
       "</div>"
      ],
      "text/plain": [
       "   ID  Gender  Age   Class       Major Grad Intention  GPA  Employment  \\\n",
       "0   1  Female   20  Junior       Other            Yes  2.9   Full-Time   \n",
       "1   2    Male   23  Senior  Management            Yes  3.6   Part-Time   \n",
       "2   3    Male   21  Junior       Other            Yes  2.5   Part-Time   \n",
       "3   4    Male   21  Junior         CIS            Yes  2.5   Full-Time   \n",
       "4   5    Male   23  Senior       Other      Undecided  2.8  Unemployed   \n",
       "\n",
       "   Salary  Social Networking  Satisfaction  Spending Computer  Text Messages  \n",
       "0    50.0                  1             3       350   Laptop            200  \n",
       "1    25.0                  1             4       360   Laptop             50  \n",
       "2    45.0                  2             4       600   Laptop            200  \n",
       "3    40.0                  4             6       600   Laptop            250  \n",
       "4    40.0                  2             4       500   Laptop            100  "
      ]
     },
     "execution_count": 37,
     "metadata": {},
     "output_type": "execute_result"
    }
   ],
   "source": [
    "df_2.head()"
   ]
  },
  {
   "cell_type": "markdown",
   "id": "49c318ab",
   "metadata": {},
   "source": [
    "2.1. For this data, construct the following contingency tables (Keep Gender as row variable)\n",
    "\n"
   ]
  },
  {
   "cell_type": "markdown",
   "id": "768da939",
   "metadata": {},
   "source": [
    "2.1.1. Gender and Major\n",
    "\n"
   ]
  },
  {
   "cell_type": "code",
   "execution_count": 37,
   "id": "d2a784b9",
   "metadata": {},
   "outputs": [],
   "source": [
    "from scipy.stats import chi2_contingency"
   ]
  },
  {
   "cell_type": "code",
   "execution_count": 40,
   "id": "2732da7c",
   "metadata": {},
   "outputs": [],
   "source": [
    "data_gender_major = pd.crosstab(df_2['Gender'], df_2['Major'],margins=True)"
   ]
  },
  {
   "cell_type": "code",
   "execution_count": 41,
   "id": "c080d0c0",
   "metadata": {},
   "outputs": [
    {
     "data": {
      "text/html": [
       "<div>\n",
       "<style scoped>\n",
       "    .dataframe tbody tr th:only-of-type {\n",
       "        vertical-align: middle;\n",
       "    }\n",
       "\n",
       "    .dataframe tbody tr th {\n",
       "        vertical-align: top;\n",
       "    }\n",
       "\n",
       "    .dataframe thead th {\n",
       "        text-align: right;\n",
       "    }\n",
       "</style>\n",
       "<table border=\"1\" class=\"dataframe\">\n",
       "  <thead>\n",
       "    <tr style=\"text-align: right;\">\n",
       "      <th>Major</th>\n",
       "      <th>Accounting</th>\n",
       "      <th>CIS</th>\n",
       "      <th>Economics/Finance</th>\n",
       "      <th>International Business</th>\n",
       "      <th>Management</th>\n",
       "      <th>Other</th>\n",
       "      <th>Retailing/Marketing</th>\n",
       "      <th>Undecided</th>\n",
       "      <th>All</th>\n",
       "    </tr>\n",
       "    <tr>\n",
       "      <th>Gender</th>\n",
       "      <th></th>\n",
       "      <th></th>\n",
       "      <th></th>\n",
       "      <th></th>\n",
       "      <th></th>\n",
       "      <th></th>\n",
       "      <th></th>\n",
       "      <th></th>\n",
       "      <th></th>\n",
       "    </tr>\n",
       "  </thead>\n",
       "  <tbody>\n",
       "    <tr>\n",
       "      <th>Female</th>\n",
       "      <td>3</td>\n",
       "      <td>3</td>\n",
       "      <td>7</td>\n",
       "      <td>4</td>\n",
       "      <td>4</td>\n",
       "      <td>3</td>\n",
       "      <td>9</td>\n",
       "      <td>0</td>\n",
       "      <td>33</td>\n",
       "    </tr>\n",
       "    <tr>\n",
       "      <th>Male</th>\n",
       "      <td>4</td>\n",
       "      <td>1</td>\n",
       "      <td>4</td>\n",
       "      <td>2</td>\n",
       "      <td>6</td>\n",
       "      <td>4</td>\n",
       "      <td>5</td>\n",
       "      <td>3</td>\n",
       "      <td>29</td>\n",
       "    </tr>\n",
       "    <tr>\n",
       "      <th>All</th>\n",
       "      <td>7</td>\n",
       "      <td>4</td>\n",
       "      <td>11</td>\n",
       "      <td>6</td>\n",
       "      <td>10</td>\n",
       "      <td>7</td>\n",
       "      <td>14</td>\n",
       "      <td>3</td>\n",
       "      <td>62</td>\n",
       "    </tr>\n",
       "  </tbody>\n",
       "</table>\n",
       "</div>"
      ],
      "text/plain": [
       "Major   Accounting  CIS  Economics/Finance  International Business  \\\n",
       "Gender                                                               \n",
       "Female           3    3                  7                       4   \n",
       "Male             4    1                  4                       2   \n",
       "All              7    4                 11                       6   \n",
       "\n",
       "Major   Management  Other  Retailing/Marketing  Undecided  All  \n",
       "Gender                                                          \n",
       "Female           4      3                    9          0   33  \n",
       "Male             6      4                    5          3   29  \n",
       "All             10      7                   14          3   62  "
      ]
     },
     "execution_count": 41,
     "metadata": {},
     "output_type": "execute_result"
    }
   ],
   "source": [
    "data_gender_major"
   ]
  },
  {
   "cell_type": "markdown",
   "id": "f7c52744",
   "metadata": {},
   "source": [
    "2.1.2. Gender and Grad Intention"
   ]
  },
  {
   "cell_type": "code",
   "execution_count": 42,
   "id": "36e88d07",
   "metadata": {},
   "outputs": [],
   "source": [
    "data_gender_gradintention = pd.crosstab(df_2['Gender'], df_2['Grad Intention'],margins=True)"
   ]
  },
  {
   "cell_type": "code",
   "execution_count": 43,
   "id": "dab5e23f",
   "metadata": {},
   "outputs": [
    {
     "data": {
      "text/html": [
       "<div>\n",
       "<style scoped>\n",
       "    .dataframe tbody tr th:only-of-type {\n",
       "        vertical-align: middle;\n",
       "    }\n",
       "\n",
       "    .dataframe tbody tr th {\n",
       "        vertical-align: top;\n",
       "    }\n",
       "\n",
       "    .dataframe thead th {\n",
       "        text-align: right;\n",
       "    }\n",
       "</style>\n",
       "<table border=\"1\" class=\"dataframe\">\n",
       "  <thead>\n",
       "    <tr style=\"text-align: right;\">\n",
       "      <th>Grad Intention</th>\n",
       "      <th>No</th>\n",
       "      <th>Undecided</th>\n",
       "      <th>Yes</th>\n",
       "      <th>All</th>\n",
       "    </tr>\n",
       "    <tr>\n",
       "      <th>Gender</th>\n",
       "      <th></th>\n",
       "      <th></th>\n",
       "      <th></th>\n",
       "      <th></th>\n",
       "    </tr>\n",
       "  </thead>\n",
       "  <tbody>\n",
       "    <tr>\n",
       "      <th>Female</th>\n",
       "      <td>9</td>\n",
       "      <td>13</td>\n",
       "      <td>11</td>\n",
       "      <td>33</td>\n",
       "    </tr>\n",
       "    <tr>\n",
       "      <th>Male</th>\n",
       "      <td>3</td>\n",
       "      <td>9</td>\n",
       "      <td>17</td>\n",
       "      <td>29</td>\n",
       "    </tr>\n",
       "    <tr>\n",
       "      <th>All</th>\n",
       "      <td>12</td>\n",
       "      <td>22</td>\n",
       "      <td>28</td>\n",
       "      <td>62</td>\n",
       "    </tr>\n",
       "  </tbody>\n",
       "</table>\n",
       "</div>"
      ],
      "text/plain": [
       "Grad Intention  No  Undecided  Yes  All\n",
       "Gender                                 \n",
       "Female           9         13   11   33\n",
       "Male             3          9   17   29\n",
       "All             12         22   28   62"
      ]
     },
     "execution_count": 43,
     "metadata": {},
     "output_type": "execute_result"
    }
   ],
   "source": [
    "data_gender_gradintention"
   ]
  },
  {
   "cell_type": "markdown",
   "id": "5c59e35f",
   "metadata": {},
   "source": [
    "2.1.3. Gender and Employment"
   ]
  },
  {
   "cell_type": "code",
   "execution_count": 44,
   "id": "d625b7f3",
   "metadata": {},
   "outputs": [],
   "source": [
    "data_gender_employment = pd.crosstab(df_2['Gender'], df_2['Employment'],margins=True)"
   ]
  },
  {
   "cell_type": "code",
   "execution_count": 45,
   "id": "fdccc11f",
   "metadata": {},
   "outputs": [
    {
     "data": {
      "text/html": [
       "<div>\n",
       "<style scoped>\n",
       "    .dataframe tbody tr th:only-of-type {\n",
       "        vertical-align: middle;\n",
       "    }\n",
       "\n",
       "    .dataframe tbody tr th {\n",
       "        vertical-align: top;\n",
       "    }\n",
       "\n",
       "    .dataframe thead th {\n",
       "        text-align: right;\n",
       "    }\n",
       "</style>\n",
       "<table border=\"1\" class=\"dataframe\">\n",
       "  <thead>\n",
       "    <tr style=\"text-align: right;\">\n",
       "      <th>Employment</th>\n",
       "      <th>Full-Time</th>\n",
       "      <th>Part-Time</th>\n",
       "      <th>Unemployed</th>\n",
       "      <th>All</th>\n",
       "    </tr>\n",
       "    <tr>\n",
       "      <th>Gender</th>\n",
       "      <th></th>\n",
       "      <th></th>\n",
       "      <th></th>\n",
       "      <th></th>\n",
       "    </tr>\n",
       "  </thead>\n",
       "  <tbody>\n",
       "    <tr>\n",
       "      <th>Female</th>\n",
       "      <td>3</td>\n",
       "      <td>24</td>\n",
       "      <td>6</td>\n",
       "      <td>33</td>\n",
       "    </tr>\n",
       "    <tr>\n",
       "      <th>Male</th>\n",
       "      <td>7</td>\n",
       "      <td>19</td>\n",
       "      <td>3</td>\n",
       "      <td>29</td>\n",
       "    </tr>\n",
       "    <tr>\n",
       "      <th>All</th>\n",
       "      <td>10</td>\n",
       "      <td>43</td>\n",
       "      <td>9</td>\n",
       "      <td>62</td>\n",
       "    </tr>\n",
       "  </tbody>\n",
       "</table>\n",
       "</div>"
      ],
      "text/plain": [
       "Employment  Full-Time  Part-Time  Unemployed  All\n",
       "Gender                                           \n",
       "Female              3         24           6   33\n",
       "Male                7         19           3   29\n",
       "All                10         43           9   62"
      ]
     },
     "execution_count": 45,
     "metadata": {},
     "output_type": "execute_result"
    }
   ],
   "source": [
    "data_gender_employment"
   ]
  },
  {
   "cell_type": "markdown",
   "id": "7c16a793",
   "metadata": {},
   "source": [
    "2.1.4. Gender and Computer"
   ]
  },
  {
   "cell_type": "code",
   "execution_count": 46,
   "id": "b182fa32",
   "metadata": {},
   "outputs": [],
   "source": [
    "data_gender_computer = pd.crosstab(df_2['Gender'], df_2['Computer'],margins=True)"
   ]
  },
  {
   "cell_type": "code",
   "execution_count": 47,
   "id": "6f01e011",
   "metadata": {},
   "outputs": [
    {
     "data": {
      "text/html": [
       "<div>\n",
       "<style scoped>\n",
       "    .dataframe tbody tr th:only-of-type {\n",
       "        vertical-align: middle;\n",
       "    }\n",
       "\n",
       "    .dataframe tbody tr th {\n",
       "        vertical-align: top;\n",
       "    }\n",
       "\n",
       "    .dataframe thead th {\n",
       "        text-align: right;\n",
       "    }\n",
       "</style>\n",
       "<table border=\"1\" class=\"dataframe\">\n",
       "  <thead>\n",
       "    <tr style=\"text-align: right;\">\n",
       "      <th>Computer</th>\n",
       "      <th>Desktop</th>\n",
       "      <th>Laptop</th>\n",
       "      <th>Tablet</th>\n",
       "      <th>All</th>\n",
       "    </tr>\n",
       "    <tr>\n",
       "      <th>Gender</th>\n",
       "      <th></th>\n",
       "      <th></th>\n",
       "      <th></th>\n",
       "      <th></th>\n",
       "    </tr>\n",
       "  </thead>\n",
       "  <tbody>\n",
       "    <tr>\n",
       "      <th>Female</th>\n",
       "      <td>2</td>\n",
       "      <td>29</td>\n",
       "      <td>2</td>\n",
       "      <td>33</td>\n",
       "    </tr>\n",
       "    <tr>\n",
       "      <th>Male</th>\n",
       "      <td>3</td>\n",
       "      <td>26</td>\n",
       "      <td>0</td>\n",
       "      <td>29</td>\n",
       "    </tr>\n",
       "    <tr>\n",
       "      <th>All</th>\n",
       "      <td>5</td>\n",
       "      <td>55</td>\n",
       "      <td>2</td>\n",
       "      <td>62</td>\n",
       "    </tr>\n",
       "  </tbody>\n",
       "</table>\n",
       "</div>"
      ],
      "text/plain": [
       "Computer  Desktop  Laptop  Tablet  All\n",
       "Gender                                \n",
       "Female          2      29       2   33\n",
       "Male            3      26       0   29\n",
       "All             5      55       2   62"
      ]
     },
     "execution_count": 47,
     "metadata": {},
     "output_type": "execute_result"
    }
   ],
   "source": [
    "data_gender_computer"
   ]
  },
  {
   "cell_type": "markdown",
   "id": "30801424",
   "metadata": {},
   "source": [
    "2.2. Assume that the sample is representative of the population of CMSU. Based on the data, answer the following question:\n",
    "\n"
   ]
  },
  {
   "cell_type": "markdown",
   "id": "cadede45",
   "metadata": {},
   "source": [
    "2.2.1. What is the probability that a randomly selected CMSU student will be male?\n",
    "\n"
   ]
  },
  {
   "cell_type": "code",
   "execution_count": 48,
   "id": "84b6d951",
   "metadata": {},
   "outputs": [
    {
     "data": {
      "text/plain": [
       "(62, 14)"
      ]
     },
     "execution_count": 48,
     "metadata": {},
     "output_type": "execute_result"
    }
   ],
   "source": [
    "df_2.shape"
   ]
  },
  {
   "cell_type": "code",
   "execution_count": 49,
   "id": "2de5a3ce",
   "metadata": {},
   "outputs": [
    {
     "name": "stdout",
     "output_type": "stream",
     "text": [
      "<class 'pandas.core.frame.DataFrame'>\n",
      "RangeIndex: 62 entries, 0 to 61\n",
      "Data columns (total 14 columns):\n",
      " #   Column             Non-Null Count  Dtype  \n",
      "---  ------             --------------  -----  \n",
      " 0   ID                 62 non-null     int64  \n",
      " 1   Gender             62 non-null     object \n",
      " 2   Age                62 non-null     int64  \n",
      " 3   Class              62 non-null     object \n",
      " 4   Major              62 non-null     object \n",
      " 5   Grad Intention     62 non-null     object \n",
      " 6   GPA                62 non-null     float64\n",
      " 7   Employment         62 non-null     object \n",
      " 8   Salary             62 non-null     float64\n",
      " 9   Social Networking  62 non-null     int64  \n",
      " 10  Satisfaction       62 non-null     int64  \n",
      " 11  Spending           62 non-null     int64  \n",
      " 12  Computer           62 non-null     object \n",
      " 13  Text Messages      62 non-null     int64  \n",
      "dtypes: float64(2), int64(6), object(6)\n",
      "memory usage: 6.9+ KB\n"
     ]
    }
   ],
   "source": [
    "df_2.info()"
   ]
  },
  {
   "cell_type": "code",
   "execution_count": 50,
   "id": "647025bc",
   "metadata": {},
   "outputs": [
    {
     "data": {
      "text/plain": [
       "2"
      ]
     },
     "execution_count": 50,
     "metadata": {},
     "output_type": "execute_result"
    }
   ],
   "source": [
    "df_2['Gender'].nunique()"
   ]
  },
  {
   "cell_type": "code",
   "execution_count": 51,
   "id": "480a1aa8",
   "metadata": {},
   "outputs": [],
   "source": [
    "df_2_male = df_2[df_2['Gender']=='Male']"
   ]
  },
  {
   "cell_type": "code",
   "execution_count": 52,
   "id": "a559e30b",
   "metadata": {},
   "outputs": [
    {
     "data": {
      "text/plain": [
       "(29, 14)"
      ]
     },
     "execution_count": 52,
     "metadata": {},
     "output_type": "execute_result"
    }
   ],
   "source": [
    "df_2_male.shape"
   ]
  },
  {
   "cell_type": "code",
   "execution_count": 143,
   "id": "57a23ecc",
   "metadata": {},
   "outputs": [
    {
     "name": "stdout",
     "output_type": "stream",
     "text": [
      "Probability of males is 46.77%\n"
     ]
    }
   ],
   "source": [
    "Total_male = 29\n",
    "Total_students = 62\n",
    "Prob_male = round(Total_male/Total_students,4)*100\n",
    "print('Probability of males is %1.2f' % Prob_male +'%')"
   ]
  },
  {
   "cell_type": "markdown",
   "id": "9bf6bdfa",
   "metadata": {},
   "source": [
    "2.2.2. What is the probability that a randomly selected CMSU student will be female?\n",
    "\n"
   ]
  },
  {
   "cell_type": "code",
   "execution_count": 121,
   "id": "e3e9d09d",
   "metadata": {},
   "outputs": [],
   "source": [
    "df_2_female = df_2[df_2['Gender']=='Female']"
   ]
  },
  {
   "cell_type": "code",
   "execution_count": 55,
   "id": "7bf0aa96",
   "metadata": {},
   "outputs": [
    {
     "data": {
      "text/plain": [
       "(33, 14)"
      ]
     },
     "execution_count": 55,
     "metadata": {},
     "output_type": "execute_result"
    }
   ],
   "source": [
    "df_2_female.shape"
   ]
  },
  {
   "cell_type": "code",
   "execution_count": 144,
   "id": "e56a89bd",
   "metadata": {},
   "outputs": [
    {
     "name": "stdout",
     "output_type": "stream",
     "text": [
      "Probability of females is 53.23%\n"
     ]
    }
   ],
   "source": [
    "Total_female = 33\n",
    "Total_students = 62\n",
    "Prob_female = round(Total_female/Total_students,4)*100\n",
    "print('Probability of females is %1.2f' % Prob_female +'%')"
   ]
  },
  {
   "cell_type": "markdown",
   "id": "074d56ef",
   "metadata": {},
   "source": [
    "2.3. Assume that the sample is representative of the population of CMSU. Based on the data, answer the following question:\n",
    "\n"
   ]
  },
  {
   "cell_type": "markdown",
   "id": "2742531a",
   "metadata": {},
   "source": [
    "2.3.1. Find the conditional probability of different majors among the male students in CMSU.\n",
    "\n"
   ]
  },
  {
   "cell_type": "markdown",
   "id": "70b5f8e4",
   "metadata": {},
   "source": [
    "Using the contingency table in 2.1.1, we got the total numbers of males and females opting for different majors."
   ]
  },
  {
   "cell_type": "code",
   "execution_count": 57,
   "id": "6cf16463",
   "metadata": {},
   "outputs": [
    {
     "data": {
      "text/html": [
       "<div>\n",
       "<style scoped>\n",
       "    .dataframe tbody tr th:only-of-type {\n",
       "        vertical-align: middle;\n",
       "    }\n",
       "\n",
       "    .dataframe tbody tr th {\n",
       "        vertical-align: top;\n",
       "    }\n",
       "\n",
       "    .dataframe thead th {\n",
       "        text-align: right;\n",
       "    }\n",
       "</style>\n",
       "<table border=\"1\" class=\"dataframe\">\n",
       "  <thead>\n",
       "    <tr style=\"text-align: right;\">\n",
       "      <th>Major</th>\n",
       "      <th>Accounting</th>\n",
       "      <th>CIS</th>\n",
       "      <th>Economics/Finance</th>\n",
       "      <th>International Business</th>\n",
       "      <th>Management</th>\n",
       "      <th>Other</th>\n",
       "      <th>Retailing/Marketing</th>\n",
       "      <th>Undecided</th>\n",
       "      <th>All</th>\n",
       "    </tr>\n",
       "    <tr>\n",
       "      <th>Gender</th>\n",
       "      <th></th>\n",
       "      <th></th>\n",
       "      <th></th>\n",
       "      <th></th>\n",
       "      <th></th>\n",
       "      <th></th>\n",
       "      <th></th>\n",
       "      <th></th>\n",
       "      <th></th>\n",
       "    </tr>\n",
       "  </thead>\n",
       "  <tbody>\n",
       "    <tr>\n",
       "      <th>Female</th>\n",
       "      <td>3</td>\n",
       "      <td>3</td>\n",
       "      <td>7</td>\n",
       "      <td>4</td>\n",
       "      <td>4</td>\n",
       "      <td>3</td>\n",
       "      <td>9</td>\n",
       "      <td>0</td>\n",
       "      <td>33</td>\n",
       "    </tr>\n",
       "    <tr>\n",
       "      <th>Male</th>\n",
       "      <td>4</td>\n",
       "      <td>1</td>\n",
       "      <td>4</td>\n",
       "      <td>2</td>\n",
       "      <td>6</td>\n",
       "      <td>4</td>\n",
       "      <td>5</td>\n",
       "      <td>3</td>\n",
       "      <td>29</td>\n",
       "    </tr>\n",
       "    <tr>\n",
       "      <th>All</th>\n",
       "      <td>7</td>\n",
       "      <td>4</td>\n",
       "      <td>11</td>\n",
       "      <td>6</td>\n",
       "      <td>10</td>\n",
       "      <td>7</td>\n",
       "      <td>14</td>\n",
       "      <td>3</td>\n",
       "      <td>62</td>\n",
       "    </tr>\n",
       "  </tbody>\n",
       "</table>\n",
       "</div>"
      ],
      "text/plain": [
       "Major   Accounting  CIS  Economics/Finance  International Business  \\\n",
       "Gender                                                               \n",
       "Female           3    3                  7                       4   \n",
       "Male             4    1                  4                       2   \n",
       "All              7    4                 11                       6   \n",
       "\n",
       "Major   Management  Other  Retailing/Marketing  Undecided  All  \n",
       "Gender                                                          \n",
       "Female           4      3                    9          0   33  \n",
       "Male             6      4                    5          3   29  \n",
       "All             10      7                   14          3   62  "
      ]
     },
     "execution_count": 57,
     "metadata": {},
     "output_type": "execute_result"
    }
   ],
   "source": [
    "data_gender_major"
   ]
  },
  {
   "cell_type": "code",
   "execution_count": 145,
   "id": "b5293bb3",
   "metadata": {},
   "outputs": [
    {
     "name": "stdout",
     "output_type": "stream",
     "text": [
      "Probability of males opting for accounting is 13.79%\n"
     ]
    }
   ],
   "source": [
    "Male_accounting = 4\n",
    "Total_male = 29\n",
    "Prob_male_accounting = round(Male_accounting/Total_male,4)*100\n",
    "print('Probability of males opting for accounting is %1.2f' % Prob_male_accounting +'%')"
   ]
  },
  {
   "cell_type": "code",
   "execution_count": 146,
   "id": "c6e873ff",
   "metadata": {},
   "outputs": [
    {
     "name": "stdout",
     "output_type": "stream",
     "text": [
      "Probability of males opting for CIS is 3.45%\n"
     ]
    }
   ],
   "source": [
    "Male_CIS = 1\n",
    "Total_male = 29\n",
    "Prob_male_CIS = round(Male_CIS/Total_male,4)*100\n",
    "print('Probability of males opting for CIS is %1.2f' % Prob_male_CIS +'%')"
   ]
  },
  {
   "cell_type": "code",
   "execution_count": 147,
   "id": "a9917952",
   "metadata": {},
   "outputs": [
    {
     "name": "stdout",
     "output_type": "stream",
     "text": [
      "Probability of males opting for economics/finance is 13.79%\n"
     ]
    }
   ],
   "source": [
    "Male_Economics_Finance = 4\n",
    "Total_male = 29\n",
    "Prob_male_Economics_Finance = round(Male_Economics_Finance/Total_male,4)*100\n",
    "print('Probability of males opting for economics/finance is %1.2f' % Prob_male_Economics_Finance +'%')"
   ]
  },
  {
   "cell_type": "code",
   "execution_count": 148,
   "id": "ef3cb8e6",
   "metadata": {},
   "outputs": [
    {
     "name": "stdout",
     "output_type": "stream",
     "text": [
      "Probability of males opting for international business is 6.90%\n"
     ]
    }
   ],
   "source": [
    "Male_International_Business = 2\n",
    "Total_male = 29\n",
    "Prob_male_International_Business = round(Male_International_Business/Total_male,4)*100\n",
    "print('Probability of males opting for international business is %1.2f' % Prob_male_International_Business +'%')"
   ]
  },
  {
   "cell_type": "code",
   "execution_count": 149,
   "id": "aef79bd4",
   "metadata": {},
   "outputs": [
    {
     "name": "stdout",
     "output_type": "stream",
     "text": [
      "Probability of males opting for management is 20.69%\n"
     ]
    }
   ],
   "source": [
    "Male_management = 6\n",
    "Total_male = 29\n",
    "Prob_male_management = round(Male_management/Total_male,4)*100\n",
    "print('Probability of males opting for management is %1.2f' % Prob_male_management +'%')"
   ]
  },
  {
   "cell_type": "code",
   "execution_count": 150,
   "id": "2e38564b",
   "metadata": {},
   "outputs": [
    {
     "name": "stdout",
     "output_type": "stream",
     "text": [
      "Probability of males opting for other is 13.79%\n"
     ]
    }
   ],
   "source": [
    "Male_other = 4\n",
    "Total_male = 29\n",
    "Prob_male_other = round(Male_other/Total_male,4)*100\n",
    "print('Probability of males opting for other is %1.2f' % Prob_male_other +'%')"
   ]
  },
  {
   "cell_type": "code",
   "execution_count": 151,
   "id": "623eaab0",
   "metadata": {},
   "outputs": [
    {
     "name": "stdout",
     "output_type": "stream",
     "text": [
      "Probability of males opting for retailing/marketing is 17.24%\n"
     ]
    }
   ],
   "source": [
    "Male_retailing_marketing = 5\n",
    "Total_male = 29\n",
    "Prob_male_retailing_marketing = round(Male_retailing_marketing/Total_male,4)*100\n",
    "print('Probability of males opting for retailing/marketing is %1.2f' % Prob_male_retailing_marketing +'%')"
   ]
  },
  {
   "cell_type": "code",
   "execution_count": 152,
   "id": "f064ace2",
   "metadata": {},
   "outputs": [
    {
     "name": "stdout",
     "output_type": "stream",
     "text": [
      "Probability of males who have not decided the major is 10.34%\n"
     ]
    }
   ],
   "source": [
    "Male_undecided = 3\n",
    "Total_male = 29\n",
    "Prob_male_undecided = round(Male_undecided/Total_male,4)*100\n",
    "print('Probability of males who have not decided the major is %1.2f' % Prob_male_undecided +'%')"
   ]
  },
  {
   "cell_type": "markdown",
   "id": "e845e558",
   "metadata": {},
   "source": [
    "From this output, we can easily say that most of the male students prefer management as majors and the least preferred major is CIS"
   ]
  },
  {
   "cell_type": "markdown",
   "id": "a870d42b",
   "metadata": {},
   "source": [
    "2.3.2 Find the conditional probability of different majors among the female students of CMSU.\n",
    "\n"
   ]
  },
  {
   "cell_type": "markdown",
   "id": "37680c53",
   "metadata": {},
   "source": [
    "Using the contingency table in 2.1.1, we got the total numbers of males and females opting for different majors."
   ]
  },
  {
   "cell_type": "code",
   "execution_count": 66,
   "id": "f50acdca",
   "metadata": {},
   "outputs": [
    {
     "data": {
      "text/html": [
       "<div>\n",
       "<style scoped>\n",
       "    .dataframe tbody tr th:only-of-type {\n",
       "        vertical-align: middle;\n",
       "    }\n",
       "\n",
       "    .dataframe tbody tr th {\n",
       "        vertical-align: top;\n",
       "    }\n",
       "\n",
       "    .dataframe thead th {\n",
       "        text-align: right;\n",
       "    }\n",
       "</style>\n",
       "<table border=\"1\" class=\"dataframe\">\n",
       "  <thead>\n",
       "    <tr style=\"text-align: right;\">\n",
       "      <th>Major</th>\n",
       "      <th>Accounting</th>\n",
       "      <th>CIS</th>\n",
       "      <th>Economics/Finance</th>\n",
       "      <th>International Business</th>\n",
       "      <th>Management</th>\n",
       "      <th>Other</th>\n",
       "      <th>Retailing/Marketing</th>\n",
       "      <th>Undecided</th>\n",
       "      <th>All</th>\n",
       "    </tr>\n",
       "    <tr>\n",
       "      <th>Gender</th>\n",
       "      <th></th>\n",
       "      <th></th>\n",
       "      <th></th>\n",
       "      <th></th>\n",
       "      <th></th>\n",
       "      <th></th>\n",
       "      <th></th>\n",
       "      <th></th>\n",
       "      <th></th>\n",
       "    </tr>\n",
       "  </thead>\n",
       "  <tbody>\n",
       "    <tr>\n",
       "      <th>Female</th>\n",
       "      <td>3</td>\n",
       "      <td>3</td>\n",
       "      <td>7</td>\n",
       "      <td>4</td>\n",
       "      <td>4</td>\n",
       "      <td>3</td>\n",
       "      <td>9</td>\n",
       "      <td>0</td>\n",
       "      <td>33</td>\n",
       "    </tr>\n",
       "    <tr>\n",
       "      <th>Male</th>\n",
       "      <td>4</td>\n",
       "      <td>1</td>\n",
       "      <td>4</td>\n",
       "      <td>2</td>\n",
       "      <td>6</td>\n",
       "      <td>4</td>\n",
       "      <td>5</td>\n",
       "      <td>3</td>\n",
       "      <td>29</td>\n",
       "    </tr>\n",
       "    <tr>\n",
       "      <th>All</th>\n",
       "      <td>7</td>\n",
       "      <td>4</td>\n",
       "      <td>11</td>\n",
       "      <td>6</td>\n",
       "      <td>10</td>\n",
       "      <td>7</td>\n",
       "      <td>14</td>\n",
       "      <td>3</td>\n",
       "      <td>62</td>\n",
       "    </tr>\n",
       "  </tbody>\n",
       "</table>\n",
       "</div>"
      ],
      "text/plain": [
       "Major   Accounting  CIS  Economics/Finance  International Business  \\\n",
       "Gender                                                               \n",
       "Female           3    3                  7                       4   \n",
       "Male             4    1                  4                       2   \n",
       "All              7    4                 11                       6   \n",
       "\n",
       "Major   Management  Other  Retailing/Marketing  Undecided  All  \n",
       "Gender                                                          \n",
       "Female           4      3                    9          0   33  \n",
       "Male             6      4                    5          3   29  \n",
       "All             10      7                   14          3   62  "
      ]
     },
     "execution_count": 66,
     "metadata": {},
     "output_type": "execute_result"
    }
   ],
   "source": [
    "data_gender_major"
   ]
  },
  {
   "cell_type": "code",
   "execution_count": 153,
   "id": "ada3b6ff",
   "metadata": {},
   "outputs": [
    {
     "name": "stdout",
     "output_type": "stream",
     "text": [
      "Probability of females opting for accounting is 9.09%\n"
     ]
    }
   ],
   "source": [
    "Female_accounting = 3\n",
    "Total_female = 33\n",
    "Prob_female_accounting = round(Female_accounting/Total_female,4)*100\n",
    "print('Probability of females opting for accounting is %1.2f' % Prob_female_accounting +'%')"
   ]
  },
  {
   "cell_type": "code",
   "execution_count": 154,
   "id": "2de1d278",
   "metadata": {},
   "outputs": [
    {
     "name": "stdout",
     "output_type": "stream",
     "text": [
      "Probability of females opting for CIS is 9.09%\n"
     ]
    }
   ],
   "source": [
    "Female_CIS = 3\n",
    "Total_female = 33\n",
    "Prob_female_CIS = round(Female_CIS/Total_female,4)*100\n",
    "print('Probability of females opting for CIS is %1.2f' % Prob_female_CIS +'%')"
   ]
  },
  {
   "cell_type": "code",
   "execution_count": 155,
   "id": "30ead77b",
   "metadata": {},
   "outputs": [
    {
     "name": "stdout",
     "output_type": "stream",
     "text": [
      "Probability of females opting for economics/finance is 21.21%\n"
     ]
    }
   ],
   "source": [
    "Female_Economics_Finance = 7\n",
    "Total_female = 33\n",
    "Prob_female_Economics_Finance = round(Female_Economics_Finance/Total_female,4)*100\n",
    "print('Probability of females opting for economics/finance is %1.2f' % Prob_female_Economics_Finance +'%')"
   ]
  },
  {
   "cell_type": "code",
   "execution_count": 156,
   "id": "8e8fed08",
   "metadata": {},
   "outputs": [
    {
     "name": "stdout",
     "output_type": "stream",
     "text": [
      "Probability of females opting for international business is 12.12%\n"
     ]
    }
   ],
   "source": [
    "Female_International_Business = 4\n",
    "Total_female = 33\n",
    "Prob_female_International_Business = round(Female_International_Business/Total_female,4)*100\n",
    "print('Probability of females opting for international business is %1.2f' % Prob_female_International_Business +'%')"
   ]
  },
  {
   "cell_type": "code",
   "execution_count": 157,
   "id": "acf29d7f",
   "metadata": {},
   "outputs": [
    {
     "name": "stdout",
     "output_type": "stream",
     "text": [
      "Probability of females opting for management is 12.12%\n"
     ]
    }
   ],
   "source": [
    "Female_management = 4\n",
    "Total_female = 33\n",
    "Prob_female_management = round(Female_management/Total_female,4)*100\n",
    "print('Probability of females opting for management is %1.2f' % Prob_female_management +'%')"
   ]
  },
  {
   "cell_type": "code",
   "execution_count": 158,
   "id": "e0669efc",
   "metadata": {},
   "outputs": [
    {
     "name": "stdout",
     "output_type": "stream",
     "text": [
      "Probability of females opting for other is 9.09%\n"
     ]
    }
   ],
   "source": [
    "Female_other = 3\n",
    "Total_female = 33\n",
    "Prob_female_other = round(Female_other/Total_female,4)*100\n",
    "print('Probability of females opting for other is %1.2f' % Prob_female_other +'%')"
   ]
  },
  {
   "cell_type": "code",
   "execution_count": 159,
   "id": "839986ad",
   "metadata": {},
   "outputs": [
    {
     "name": "stdout",
     "output_type": "stream",
     "text": [
      "Probability of females opting for retailing/marketing is 27.27%\n"
     ]
    }
   ],
   "source": [
    "Female_retailing_marketing = 9\n",
    "Total_female = 33\n",
    "Prob_female_retailing_marketing = round(Female_retailing_marketing/Total_female,4)*100\n",
    "print('Probability of females opting for retailing/marketing is %1.2f' % Prob_female_retailing_marketing +'%')"
   ]
  },
  {
   "cell_type": "code",
   "execution_count": 160,
   "id": "41133fd2",
   "metadata": {},
   "outputs": [
    {
     "name": "stdout",
     "output_type": "stream",
     "text": [
      "Probability of females who have not decided the major is 0.00%\n"
     ]
    }
   ],
   "source": [
    "Female_undecided = 0\n",
    "Total_female = 33\n",
    "Prob_female_undecided = round(Female_undecided/Total_female,4)*100\n",
    "print('Probability of females who have not decided the major is %1.2f' % Prob_female_undecided +'%')"
   ]
  },
  {
   "cell_type": "markdown",
   "id": "2b3e5bdc",
   "metadata": {},
   "source": [
    "From this output, we can easily say that most of the female students prefer retailing/marketing as majors."
   ]
  },
  {
   "cell_type": "markdown",
   "id": "fd2aa690",
   "metadata": {},
   "source": [
    "2.4. Assume that the sample is a representative of the population of CMSU. Based on the data, answer the following question:\n",
    "\n"
   ]
  },
  {
   "cell_type": "markdown",
   "id": "fcde4bd7",
   "metadata": {},
   "source": [
    "2.4.1. Find the probability that a randomly chosen student is a male and intends to graduate.\n",
    "\n"
   ]
  },
  {
   "cell_type": "markdown",
   "id": "7f2209b0",
   "metadata": {},
   "source": [
    "Using the contingency table in 2.1.2, we got the total numbers of males and females who intend to graduate."
   ]
  },
  {
   "cell_type": "code",
   "execution_count": 75,
   "id": "62551476",
   "metadata": {},
   "outputs": [
    {
     "data": {
      "text/html": [
       "<div>\n",
       "<style scoped>\n",
       "    .dataframe tbody tr th:only-of-type {\n",
       "        vertical-align: middle;\n",
       "    }\n",
       "\n",
       "    .dataframe tbody tr th {\n",
       "        vertical-align: top;\n",
       "    }\n",
       "\n",
       "    .dataframe thead th {\n",
       "        text-align: right;\n",
       "    }\n",
       "</style>\n",
       "<table border=\"1\" class=\"dataframe\">\n",
       "  <thead>\n",
       "    <tr style=\"text-align: right;\">\n",
       "      <th>Grad Intention</th>\n",
       "      <th>No</th>\n",
       "      <th>Undecided</th>\n",
       "      <th>Yes</th>\n",
       "      <th>All</th>\n",
       "    </tr>\n",
       "    <tr>\n",
       "      <th>Gender</th>\n",
       "      <th></th>\n",
       "      <th></th>\n",
       "      <th></th>\n",
       "      <th></th>\n",
       "    </tr>\n",
       "  </thead>\n",
       "  <tbody>\n",
       "    <tr>\n",
       "      <th>Female</th>\n",
       "      <td>9</td>\n",
       "      <td>13</td>\n",
       "      <td>11</td>\n",
       "      <td>33</td>\n",
       "    </tr>\n",
       "    <tr>\n",
       "      <th>Male</th>\n",
       "      <td>3</td>\n",
       "      <td>9</td>\n",
       "      <td>17</td>\n",
       "      <td>29</td>\n",
       "    </tr>\n",
       "    <tr>\n",
       "      <th>All</th>\n",
       "      <td>12</td>\n",
       "      <td>22</td>\n",
       "      <td>28</td>\n",
       "      <td>62</td>\n",
       "    </tr>\n",
       "  </tbody>\n",
       "</table>\n",
       "</div>"
      ],
      "text/plain": [
       "Grad Intention  No  Undecided  Yes  All\n",
       "Gender                                 \n",
       "Female           9         13   11   33\n",
       "Male             3          9   17   29\n",
       "All             12         22   28   62"
      ]
     },
     "execution_count": 75,
     "metadata": {},
     "output_type": "execute_result"
    }
   ],
   "source": [
    "data_gender_gradintention"
   ]
  },
  {
   "cell_type": "code",
   "execution_count": 230,
   "id": "7ca4ad8f",
   "metadata": {},
   "outputs": [
    {
     "name": "stdout",
     "output_type": "stream",
     "text": [
      "Probability of males who intend to graduate is 27.42%\n"
     ]
    }
   ],
   "source": [
    "Total_students = 62\n",
    "Male_Grad_intention = 17\n",
    "Prob_male_grad_intention = round(Male_Grad_intention/Total_students,4)*100\n",
    "print('Probability of males who intend to graduate is %1.2f' % Prob_male_grad_intention +'%')"
   ]
  },
  {
   "cell_type": "markdown",
   "id": "6a5af2f6",
   "metadata": {},
   "source": [
    "2.4.2 Find the probability that a randomly selected student is a female and does NOT have a laptop. \n",
    "\n"
   ]
  },
  {
   "cell_type": "markdown",
   "id": "916afb6b",
   "metadata": {},
   "source": [
    "Using the contingency table in 2.1.4, we got the total numbers of males and females who have a desktop, laptop or a tablet"
   ]
  },
  {
   "cell_type": "code",
   "execution_count": 78,
   "id": "c86b2499",
   "metadata": {},
   "outputs": [
    {
     "data": {
      "text/html": [
       "<div>\n",
       "<style scoped>\n",
       "    .dataframe tbody tr th:only-of-type {\n",
       "        vertical-align: middle;\n",
       "    }\n",
       "\n",
       "    .dataframe tbody tr th {\n",
       "        vertical-align: top;\n",
       "    }\n",
       "\n",
       "    .dataframe thead th {\n",
       "        text-align: right;\n",
       "    }\n",
       "</style>\n",
       "<table border=\"1\" class=\"dataframe\">\n",
       "  <thead>\n",
       "    <tr style=\"text-align: right;\">\n",
       "      <th>Computer</th>\n",
       "      <th>Desktop</th>\n",
       "      <th>Laptop</th>\n",
       "      <th>Tablet</th>\n",
       "      <th>All</th>\n",
       "    </tr>\n",
       "    <tr>\n",
       "      <th>Gender</th>\n",
       "      <th></th>\n",
       "      <th></th>\n",
       "      <th></th>\n",
       "      <th></th>\n",
       "    </tr>\n",
       "  </thead>\n",
       "  <tbody>\n",
       "    <tr>\n",
       "      <th>Female</th>\n",
       "      <td>2</td>\n",
       "      <td>29</td>\n",
       "      <td>2</td>\n",
       "      <td>33</td>\n",
       "    </tr>\n",
       "    <tr>\n",
       "      <th>Male</th>\n",
       "      <td>3</td>\n",
       "      <td>26</td>\n",
       "      <td>0</td>\n",
       "      <td>29</td>\n",
       "    </tr>\n",
       "    <tr>\n",
       "      <th>All</th>\n",
       "      <td>5</td>\n",
       "      <td>55</td>\n",
       "      <td>2</td>\n",
       "      <td>62</td>\n",
       "    </tr>\n",
       "  </tbody>\n",
       "</table>\n",
       "</div>"
      ],
      "text/plain": [
       "Computer  Desktop  Laptop  Tablet  All\n",
       "Gender                                \n",
       "Female          2      29       2   33\n",
       "Male            3      26       0   29\n",
       "All             5      55       2   62"
      ]
     },
     "execution_count": 78,
     "metadata": {},
     "output_type": "execute_result"
    }
   ],
   "source": [
    "data_gender_computer"
   ]
  },
  {
   "cell_type": "code",
   "execution_count": 231,
   "id": "bdb4bae9",
   "metadata": {},
   "outputs": [
    {
     "name": "stdout",
     "output_type": "stream",
     "text": [
      "Probability of females who do not have a laptop is 6.45%\n"
     ]
    }
   ],
   "source": [
    "Total_students = 62\n",
    "Female_desktop = 2\n",
    "Female_tablet = 2\n",
    "Female_no_laptop = Female_desktop + Female_tablet\n",
    "Prob_female_no_laptop = round(Female_no_laptop/Total_students,4)*100\n",
    "print('Probability of females who do not have a laptop is %1.2f' % Prob_female_no_laptop +'%')"
   ]
  },
  {
   "cell_type": "markdown",
   "id": "97f80efc",
   "metadata": {},
   "source": [
    "2.5. Assume that the sample is representative of the population of CMSU. Based on the data, answer the following question:\n",
    "\n"
   ]
  },
  {
   "cell_type": "markdown",
   "id": "2010d7cb",
   "metadata": {},
   "source": [
    "2.5.1. Find the probability that a randomly chosen student is a male or has full-time employment?\n",
    "\n"
   ]
  },
  {
   "cell_type": "markdown",
   "id": "52218699",
   "metadata": {},
   "source": [
    "Using the contingency table in 2.1.3, we got the total numbers of males and females who are employed."
   ]
  },
  {
   "cell_type": "code",
   "execution_count": 80,
   "id": "411d2256",
   "metadata": {},
   "outputs": [
    {
     "data": {
      "text/html": [
       "<div>\n",
       "<style scoped>\n",
       "    .dataframe tbody tr th:only-of-type {\n",
       "        vertical-align: middle;\n",
       "    }\n",
       "\n",
       "    .dataframe tbody tr th {\n",
       "        vertical-align: top;\n",
       "    }\n",
       "\n",
       "    .dataframe thead th {\n",
       "        text-align: right;\n",
       "    }\n",
       "</style>\n",
       "<table border=\"1\" class=\"dataframe\">\n",
       "  <thead>\n",
       "    <tr style=\"text-align: right;\">\n",
       "      <th>Employment</th>\n",
       "      <th>Full-Time</th>\n",
       "      <th>Part-Time</th>\n",
       "      <th>Unemployed</th>\n",
       "      <th>All</th>\n",
       "    </tr>\n",
       "    <tr>\n",
       "      <th>Gender</th>\n",
       "      <th></th>\n",
       "      <th></th>\n",
       "      <th></th>\n",
       "      <th></th>\n",
       "    </tr>\n",
       "  </thead>\n",
       "  <tbody>\n",
       "    <tr>\n",
       "      <th>Female</th>\n",
       "      <td>3</td>\n",
       "      <td>24</td>\n",
       "      <td>6</td>\n",
       "      <td>33</td>\n",
       "    </tr>\n",
       "    <tr>\n",
       "      <th>Male</th>\n",
       "      <td>7</td>\n",
       "      <td>19</td>\n",
       "      <td>3</td>\n",
       "      <td>29</td>\n",
       "    </tr>\n",
       "    <tr>\n",
       "      <th>All</th>\n",
       "      <td>10</td>\n",
       "      <td>43</td>\n",
       "      <td>9</td>\n",
       "      <td>62</td>\n",
       "    </tr>\n",
       "  </tbody>\n",
       "</table>\n",
       "</div>"
      ],
      "text/plain": [
       "Employment  Full-Time  Part-Time  Unemployed  All\n",
       "Gender                                           \n",
       "Female              3         24           6   33\n",
       "Male                7         19           3   29\n",
       "All                10         43           9   62"
      ]
     },
     "execution_count": 80,
     "metadata": {},
     "output_type": "execute_result"
    }
   ],
   "source": [
    "data_gender_employment"
   ]
  },
  {
   "cell_type": "code",
   "execution_count": 163,
   "id": "3d236f6b",
   "metadata": {},
   "outputs": [
    {
     "name": "stdout",
     "output_type": "stream",
     "text": [
      "Probability that a randomly chosen student is a male or has full-time employment is 51.61%\n"
     ]
    }
   ],
   "source": [
    "Total_male = 29\n",
    "Total_students = 62\n",
    "Male_Full_employment = 7\n",
    "Total_full_time_employment = 10\n",
    "Prob_male_or_fulltimeemployment = round(((Total_male+Total_full_time_employment)-Male_Full_employment)/Total_students,4)*100\n",
    "print('Probability that a randomly chosen student is a male or has full-time employment is %1.2f' % Prob_male_or_fulltimeemployment +'%')"
   ]
  },
  {
   "cell_type": "markdown",
   "id": "bd7549e8",
   "metadata": {},
   "source": [
    "\n",
    "2.5.2. Find the conditional probability that given a female student is randomly chosen, she is majoring in international business or management.\n",
    "\n"
   ]
  },
  {
   "cell_type": "markdown",
   "id": "bd4a890c",
   "metadata": {},
   "source": [
    "Using the contingency table in 2.1.1, we got the total numbers of males and females opting for different majors."
   ]
  },
  {
   "cell_type": "code",
   "execution_count": 83,
   "id": "7ffb5018",
   "metadata": {},
   "outputs": [
    {
     "data": {
      "text/html": [
       "<div>\n",
       "<style scoped>\n",
       "    .dataframe tbody tr th:only-of-type {\n",
       "        vertical-align: middle;\n",
       "    }\n",
       "\n",
       "    .dataframe tbody tr th {\n",
       "        vertical-align: top;\n",
       "    }\n",
       "\n",
       "    .dataframe thead th {\n",
       "        text-align: right;\n",
       "    }\n",
       "</style>\n",
       "<table border=\"1\" class=\"dataframe\">\n",
       "  <thead>\n",
       "    <tr style=\"text-align: right;\">\n",
       "      <th>Major</th>\n",
       "      <th>Accounting</th>\n",
       "      <th>CIS</th>\n",
       "      <th>Economics/Finance</th>\n",
       "      <th>International Business</th>\n",
       "      <th>Management</th>\n",
       "      <th>Other</th>\n",
       "      <th>Retailing/Marketing</th>\n",
       "      <th>Undecided</th>\n",
       "      <th>All</th>\n",
       "    </tr>\n",
       "    <tr>\n",
       "      <th>Gender</th>\n",
       "      <th></th>\n",
       "      <th></th>\n",
       "      <th></th>\n",
       "      <th></th>\n",
       "      <th></th>\n",
       "      <th></th>\n",
       "      <th></th>\n",
       "      <th></th>\n",
       "      <th></th>\n",
       "    </tr>\n",
       "  </thead>\n",
       "  <tbody>\n",
       "    <tr>\n",
       "      <th>Female</th>\n",
       "      <td>3</td>\n",
       "      <td>3</td>\n",
       "      <td>7</td>\n",
       "      <td>4</td>\n",
       "      <td>4</td>\n",
       "      <td>3</td>\n",
       "      <td>9</td>\n",
       "      <td>0</td>\n",
       "      <td>33</td>\n",
       "    </tr>\n",
       "    <tr>\n",
       "      <th>Male</th>\n",
       "      <td>4</td>\n",
       "      <td>1</td>\n",
       "      <td>4</td>\n",
       "      <td>2</td>\n",
       "      <td>6</td>\n",
       "      <td>4</td>\n",
       "      <td>5</td>\n",
       "      <td>3</td>\n",
       "      <td>29</td>\n",
       "    </tr>\n",
       "    <tr>\n",
       "      <th>All</th>\n",
       "      <td>7</td>\n",
       "      <td>4</td>\n",
       "      <td>11</td>\n",
       "      <td>6</td>\n",
       "      <td>10</td>\n",
       "      <td>7</td>\n",
       "      <td>14</td>\n",
       "      <td>3</td>\n",
       "      <td>62</td>\n",
       "    </tr>\n",
       "  </tbody>\n",
       "</table>\n",
       "</div>"
      ],
      "text/plain": [
       "Major   Accounting  CIS  Economics/Finance  International Business  \\\n",
       "Gender                                                               \n",
       "Female           3    3                  7                       4   \n",
       "Male             4    1                  4                       2   \n",
       "All              7    4                 11                       6   \n",
       "\n",
       "Major   Management  Other  Retailing/Marketing  Undecided  All  \n",
       "Gender                                                          \n",
       "Female           4      3                    9          0   33  \n",
       "Male             6      4                    5          3   29  \n",
       "All             10      7                   14          3   62  "
      ]
     },
     "execution_count": 83,
     "metadata": {},
     "output_type": "execute_result"
    }
   ],
   "source": [
    "data_gender_major"
   ]
  },
  {
   "cell_type": "markdown",
   "id": "09eaf0cd",
   "metadata": {},
   "source": [
    "Probability (International Business/Management | Female)"
   ]
  },
  {
   "cell_type": "code",
   "execution_count": 164,
   "id": "4d433a6f",
   "metadata": {},
   "outputs": [
    {
     "name": "stdout",
     "output_type": "stream",
     "text": [
      "Probability that a female student is randomly chosen, she is majoring in international business or management is 24.24%\n"
     ]
    }
   ],
   "source": [
    "Total_female = 33\n",
    "Female_International_Business = 4\n",
    "Female_management = 4\n",
    "Prob_female_international_business_management = round((Female_International_Business+Female_management)/Total_female,4)*100\n",
    "print('Probability that a female student is randomly chosen, she is majoring in international business or management is %1.2f' % Prob_female_international_business_management +'%')"
   ]
  },
  {
   "cell_type": "markdown",
   "id": "e39b3353",
   "metadata": {},
   "source": [
    "2.6.  Construct a contingency table of Gender and Intent to Graduate at 2 levels (Yes/No). The Undecided students are not considered now and the table is a 2x2 table. Do you think the graduate intention and being female are independent events?\n",
    "\n"
   ]
  },
  {
   "cell_type": "code",
   "execution_count": 216,
   "id": "8e1cdb19",
   "metadata": {},
   "outputs": [],
   "source": [
    "df_2_grad_yes = df_2[df_2['Grad Intention']=='Yes']\n",
    "df_2_grad_no = df_2[df_2['Grad Intention']=='No']\n",
    "df_2_2levels = pd.concat ([df_2_grad_yes,df_2_grad_no], axis = 0, sort = False)"
   ]
  },
  {
   "cell_type": "code",
   "execution_count": 217,
   "id": "7cc15f61",
   "metadata": {},
   "outputs": [
    {
     "data": {
      "text/plain": [
       "(40, 14)"
      ]
     },
     "execution_count": 217,
     "metadata": {},
     "output_type": "execute_result"
    }
   ],
   "source": [
    "df_2_2levels.shape"
   ]
  },
  {
   "cell_type": "code",
   "execution_count": 224,
   "id": "a1c67e06",
   "metadata": {},
   "outputs": [],
   "source": [
    "data_gender_gradintention_2levels = pd.crosstab(df_2_2levels['Gender'], df_2_2levels['Grad Intention'],margins=False)"
   ]
  },
  {
   "cell_type": "code",
   "execution_count": 225,
   "id": "3f03496c",
   "metadata": {},
   "outputs": [
    {
     "data": {
      "text/html": [
       "<div>\n",
       "<style scoped>\n",
       "    .dataframe tbody tr th:only-of-type {\n",
       "        vertical-align: middle;\n",
       "    }\n",
       "\n",
       "    .dataframe tbody tr th {\n",
       "        vertical-align: top;\n",
       "    }\n",
       "\n",
       "    .dataframe thead th {\n",
       "        text-align: right;\n",
       "    }\n",
       "</style>\n",
       "<table border=\"1\" class=\"dataframe\">\n",
       "  <thead>\n",
       "    <tr style=\"text-align: right;\">\n",
       "      <th>Grad Intention</th>\n",
       "      <th>No</th>\n",
       "      <th>Yes</th>\n",
       "    </tr>\n",
       "    <tr>\n",
       "      <th>Gender</th>\n",
       "      <th></th>\n",
       "      <th></th>\n",
       "    </tr>\n",
       "  </thead>\n",
       "  <tbody>\n",
       "    <tr>\n",
       "      <th>Female</th>\n",
       "      <td>9</td>\n",
       "      <td>11</td>\n",
       "    </tr>\n",
       "    <tr>\n",
       "      <th>Male</th>\n",
       "      <td>3</td>\n",
       "      <td>17</td>\n",
       "    </tr>\n",
       "  </tbody>\n",
       "</table>\n",
       "</div>"
      ],
      "text/plain": [
       "Grad Intention  No  Yes\n",
       "Gender                 \n",
       "Female           9   11\n",
       "Male             3   17"
      ]
     },
     "execution_count": 225,
     "metadata": {},
     "output_type": "execute_result"
    }
   ],
   "source": [
    "data_gender_gradintention_2levels"
   ]
  },
  {
   "cell_type": "code",
   "execution_count": 220,
   "id": "96d1dc34",
   "metadata": {},
   "outputs": [],
   "source": [
    "Grad = 28/40\n",
    "Female = 20/40\n",
    "Female_and_Grad = 11/40"
   ]
  },
  {
   "cell_type": "code",
   "execution_count": 223,
   "id": "36f6fcd2",
   "metadata": {},
   "outputs": [
    {
     "name": "stdout",
     "output_type": "stream",
     "text": [
      "The events are not independent\n"
     ]
    }
   ],
   "source": [
    "if Grad*Female == Female_and_Grad:\n",
    "    print ('The events are independent')\n",
    "else:\n",
    "    print ('The events are not independent')"
   ]
  },
  {
   "cell_type": "markdown",
   "id": "9a723625",
   "metadata": {},
   "source": [
    "2.7. Note that there are four numerical (continuous) variables in the data set, GPA, Salary, Spending, and Text Messages.\n",
    "\n"
   ]
  },
  {
   "cell_type": "markdown",
   "id": "689a6e00",
   "metadata": {},
   "source": [
    "Answer the following questions based on the data\n",
    "\n"
   ]
  },
  {
   "cell_type": "markdown",
   "id": "af347983",
   "metadata": {},
   "source": [
    "2.7.1. If a student is chosen randomly, what is the probability that his/her GPA is less than 3?\n",
    "\n"
   ]
  },
  {
   "cell_type": "code",
   "execution_count": 91,
   "id": "63284b0b",
   "metadata": {},
   "outputs": [
    {
     "data": {
      "text/plain": [
       "array([2.9, 3.6, 2.5, 2.8, 2.3, 3. , 3.1, 3.3, 3.5, 3.4, 3.2, 3.7, 2.6,\n",
       "       3.9, 3.8, 2.4])"
      ]
     },
     "execution_count": 91,
     "metadata": {},
     "output_type": "execute_result"
    }
   ],
   "source": [
    "df_2['GPA'].unique()"
   ]
  },
  {
   "cell_type": "code",
   "execution_count": 92,
   "id": "98968c51",
   "metadata": {},
   "outputs": [
    {
     "data": {
      "text/plain": [
       "3.0    7\n",
       "3.1    7\n",
       "3.4    7\n",
       "3.5    6\n",
       "2.5    6\n",
       "3.2    6\n",
       "3.3    5\n",
       "2.9    4\n",
       "2.8    3\n",
       "3.6    3\n",
       "2.6    2\n",
       "3.7    2\n",
       "2.4    1\n",
       "3.8    1\n",
       "3.9    1\n",
       "2.3    1\n",
       "Name: GPA, dtype: int64"
      ]
     },
     "execution_count": 92,
     "metadata": {},
     "output_type": "execute_result"
    }
   ],
   "source": [
    "df_2['GPA'].value_counts(sort=True)"
   ]
  },
  {
   "cell_type": "code",
   "execution_count": 232,
   "id": "b8f17103",
   "metadata": {},
   "outputs": [
    {
     "name": "stdout",
     "output_type": "stream",
     "text": [
      "Probability of a student that his/her GPA is less than 3 is 27.42%\n"
     ]
    }
   ],
   "source": [
    "GPA_lessthan3 = 6 + 4 + 3 + 2 + 1 + 1\n",
    "Total_students = 62\n",
    "Prob_GPAlessthan3 = round(GPA_lessthan3/Total_students,4)*100\n",
    "print('Probability of a student that his/her GPA is less than 3 is %1.2f' % Prob_GPAlessthan3 +'%')"
   ]
  },
  {
   "cell_type": "markdown",
   "id": "56cd4f62",
   "metadata": {},
   "source": [
    "2.7.2. Find the conditional probability that a randomly selected male earns 50 or more. Find the conditional probability that a randomly selected female earns 50 or more.\n",
    "\n"
   ]
  },
  {
   "cell_type": "code",
   "execution_count": 94,
   "id": "e7f6d6be",
   "metadata": {},
   "outputs": [],
   "source": [
    "data_gender_salary = pd.crosstab(df_2['Gender'], df_2['Salary'],margins=True)"
   ]
  },
  {
   "cell_type": "code",
   "execution_count": 95,
   "id": "0515d0f4",
   "metadata": {},
   "outputs": [
    {
     "data": {
      "text/html": [
       "<div>\n",
       "<style scoped>\n",
       "    .dataframe tbody tr th:only-of-type {\n",
       "        vertical-align: middle;\n",
       "    }\n",
       "\n",
       "    .dataframe tbody tr th {\n",
       "        vertical-align: top;\n",
       "    }\n",
       "\n",
       "    .dataframe thead th {\n",
       "        text-align: right;\n",
       "    }\n",
       "</style>\n",
       "<table border=\"1\" class=\"dataframe\">\n",
       "  <thead>\n",
       "    <tr style=\"text-align: right;\">\n",
       "      <th>Salary</th>\n",
       "      <th>25.0</th>\n",
       "      <th>30.0</th>\n",
       "      <th>35.0</th>\n",
       "      <th>37.0</th>\n",
       "      <th>37.5</th>\n",
       "      <th>40.0</th>\n",
       "      <th>42.0</th>\n",
       "      <th>45.0</th>\n",
       "      <th>47.0</th>\n",
       "      <th>47.5</th>\n",
       "      <th>50.0</th>\n",
       "      <th>52.0</th>\n",
       "      <th>54.0</th>\n",
       "      <th>55.0</th>\n",
       "      <th>60.0</th>\n",
       "      <th>65.0</th>\n",
       "      <th>70.0</th>\n",
       "      <th>78.0</th>\n",
       "      <th>80.0</th>\n",
       "      <th>All</th>\n",
       "    </tr>\n",
       "    <tr>\n",
       "      <th>Gender</th>\n",
       "      <th></th>\n",
       "      <th></th>\n",
       "      <th></th>\n",
       "      <th></th>\n",
       "      <th></th>\n",
       "      <th></th>\n",
       "      <th></th>\n",
       "      <th></th>\n",
       "      <th></th>\n",
       "      <th></th>\n",
       "      <th></th>\n",
       "      <th></th>\n",
       "      <th></th>\n",
       "      <th></th>\n",
       "      <th></th>\n",
       "      <th></th>\n",
       "      <th></th>\n",
       "      <th></th>\n",
       "      <th></th>\n",
       "      <th></th>\n",
       "    </tr>\n",
       "  </thead>\n",
       "  <tbody>\n",
       "    <tr>\n",
       "      <th>Female</th>\n",
       "      <td>0</td>\n",
       "      <td>5</td>\n",
       "      <td>1</td>\n",
       "      <td>0</td>\n",
       "      <td>1</td>\n",
       "      <td>5</td>\n",
       "      <td>1</td>\n",
       "      <td>1</td>\n",
       "      <td>0</td>\n",
       "      <td>1</td>\n",
       "      <td>5</td>\n",
       "      <td>0</td>\n",
       "      <td>0</td>\n",
       "      <td>5</td>\n",
       "      <td>5</td>\n",
       "      <td>0</td>\n",
       "      <td>1</td>\n",
       "      <td>1</td>\n",
       "      <td>1</td>\n",
       "      <td>33</td>\n",
       "    </tr>\n",
       "    <tr>\n",
       "      <th>Male</th>\n",
       "      <td>1</td>\n",
       "      <td>0</td>\n",
       "      <td>1</td>\n",
       "      <td>1</td>\n",
       "      <td>0</td>\n",
       "      <td>7</td>\n",
       "      <td>0</td>\n",
       "      <td>4</td>\n",
       "      <td>1</td>\n",
       "      <td>0</td>\n",
       "      <td>4</td>\n",
       "      <td>1</td>\n",
       "      <td>1</td>\n",
       "      <td>3</td>\n",
       "      <td>3</td>\n",
       "      <td>1</td>\n",
       "      <td>0</td>\n",
       "      <td>0</td>\n",
       "      <td>1</td>\n",
       "      <td>29</td>\n",
       "    </tr>\n",
       "    <tr>\n",
       "      <th>All</th>\n",
       "      <td>1</td>\n",
       "      <td>5</td>\n",
       "      <td>2</td>\n",
       "      <td>1</td>\n",
       "      <td>1</td>\n",
       "      <td>12</td>\n",
       "      <td>1</td>\n",
       "      <td>5</td>\n",
       "      <td>1</td>\n",
       "      <td>1</td>\n",
       "      <td>9</td>\n",
       "      <td>1</td>\n",
       "      <td>1</td>\n",
       "      <td>8</td>\n",
       "      <td>8</td>\n",
       "      <td>1</td>\n",
       "      <td>1</td>\n",
       "      <td>1</td>\n",
       "      <td>2</td>\n",
       "      <td>62</td>\n",
       "    </tr>\n",
       "  </tbody>\n",
       "</table>\n",
       "</div>"
      ],
      "text/plain": [
       "Salary  25.0  30.0  35.0  37.0  37.5  40.0  42.0  45.0  47.0  47.5  50.0  \\\n",
       "Gender                                                                     \n",
       "Female     0     5     1     0     1     5     1     1     0     1     5   \n",
       "Male       1     0     1     1     0     7     0     4     1     0     4   \n",
       "All        1     5     2     1     1    12     1     5     1     1     9   \n",
       "\n",
       "Salary  52.0  54.0  55.0  60.0  65.0  70.0  78.0  80.0  All  \n",
       "Gender                                                       \n",
       "Female     0     0     5     5     0     1     1     1   33  \n",
       "Male       1     1     3     3     1     0     0     1   29  \n",
       "All        1     1     8     8     1     1     1     2   62  "
      ]
     },
     "execution_count": 95,
     "metadata": {},
     "output_type": "execute_result"
    }
   ],
   "source": [
    "data_gender_salary"
   ]
  },
  {
   "cell_type": "markdown",
   "id": "1da54828",
   "metadata": {},
   "source": [
    "Probability (Male|50 or more)"
   ]
  },
  {
   "cell_type": "code",
   "execution_count": 166,
   "id": "0ff9b67b",
   "metadata": {},
   "outputs": [
    {
     "name": "stdout",
     "output_type": "stream",
     "text": [
      "Probability that a randomly selected male earns 50 or more is 48.28%\n"
     ]
    }
   ],
   "source": [
    "Total_male = 29\n",
    "Salary_male_50ormore = 4+1+1+3+3+1+0+0+1\n",
    "Prob_male_50ormore = round(Salary_male_50ormore/Total_male,4)*100\n",
    "print('Probability that a randomly selected male earns 50 or more is %1.2f' % Prob_male_50ormore +'%')"
   ]
  },
  {
   "cell_type": "markdown",
   "id": "9245b772",
   "metadata": {},
   "source": [
    "Probability (Female|50 or more)"
   ]
  },
  {
   "cell_type": "code",
   "execution_count": 167,
   "id": "c6bb5ca7",
   "metadata": {},
   "outputs": [
    {
     "name": "stdout",
     "output_type": "stream",
     "text": [
      "Probability that a randomly selected female earns 50 or more is 54.55%\n"
     ]
    }
   ],
   "source": [
    "Total_female = 33\n",
    "Salary_female_50ormore = 5+0+0+5+5+0+1+1+1\n",
    "Prob_female_50ormore = round(Salary_female_50ormore/Total_female,4)*100\n",
    "print('Probability that a randomly selected female earns 50 or more is %1.2f' % Prob_female_50ormore +'%')"
   ]
  },
  {
   "cell_type": "markdown",
   "id": "2cdde51c",
   "metadata": {},
   "source": [
    "2.8. Note that there are four numerical (continuous) variables in the data set, GPA, Salary, Spending, and Text Messages. For each of them comment whether they follow a normal distribution. Write a note summarizing your conclusions.\n",
    "\n"
   ]
  },
  {
   "cell_type": "code",
   "execution_count": 279,
   "id": "c6ec13fb",
   "metadata": {},
   "outputs": [
    {
     "data": {
      "text/html": [
       "<div>\n",
       "<style scoped>\n",
       "    .dataframe tbody tr th:only-of-type {\n",
       "        vertical-align: middle;\n",
       "    }\n",
       "\n",
       "    .dataframe tbody tr th {\n",
       "        vertical-align: top;\n",
       "    }\n",
       "\n",
       "    .dataframe thead th {\n",
       "        text-align: right;\n",
       "    }\n",
       "</style>\n",
       "<table border=\"1\" class=\"dataframe\">\n",
       "  <thead>\n",
       "    <tr style=\"text-align: right;\">\n",
       "      <th></th>\n",
       "      <th>ID</th>\n",
       "      <th>Age</th>\n",
       "      <th>GPA</th>\n",
       "      <th>Salary</th>\n",
       "      <th>Social Networking</th>\n",
       "      <th>Satisfaction</th>\n",
       "      <th>Spending</th>\n",
       "      <th>Text Messages</th>\n",
       "    </tr>\n",
       "  </thead>\n",
       "  <tbody>\n",
       "    <tr>\n",
       "      <th>count</th>\n",
       "      <td>62.000000</td>\n",
       "      <td>62.000000</td>\n",
       "      <td>62.000000</td>\n",
       "      <td>62.000000</td>\n",
       "      <td>62.000000</td>\n",
       "      <td>62.000000</td>\n",
       "      <td>62.000000</td>\n",
       "      <td>62.000000</td>\n",
       "    </tr>\n",
       "    <tr>\n",
       "      <th>mean</th>\n",
       "      <td>31.500000</td>\n",
       "      <td>21.129032</td>\n",
       "      <td>3.129032</td>\n",
       "      <td>48.548387</td>\n",
       "      <td>1.516129</td>\n",
       "      <td>3.741935</td>\n",
       "      <td>482.016129</td>\n",
       "      <td>246.209677</td>\n",
       "    </tr>\n",
       "    <tr>\n",
       "      <th>std</th>\n",
       "      <td>18.041619</td>\n",
       "      <td>1.431311</td>\n",
       "      <td>0.377388</td>\n",
       "      <td>12.080912</td>\n",
       "      <td>0.844305</td>\n",
       "      <td>1.213793</td>\n",
       "      <td>221.953805</td>\n",
       "      <td>214.465950</td>\n",
       "    </tr>\n",
       "    <tr>\n",
       "      <th>min</th>\n",
       "      <td>1.000000</td>\n",
       "      <td>18.000000</td>\n",
       "      <td>2.300000</td>\n",
       "      <td>25.000000</td>\n",
       "      <td>0.000000</td>\n",
       "      <td>1.000000</td>\n",
       "      <td>100.000000</td>\n",
       "      <td>0.000000</td>\n",
       "    </tr>\n",
       "    <tr>\n",
       "      <th>25%</th>\n",
       "      <td>16.250000</td>\n",
       "      <td>20.000000</td>\n",
       "      <td>2.900000</td>\n",
       "      <td>40.000000</td>\n",
       "      <td>1.000000</td>\n",
       "      <td>3.000000</td>\n",
       "      <td>312.500000</td>\n",
       "      <td>100.000000</td>\n",
       "    </tr>\n",
       "    <tr>\n",
       "      <th>50%</th>\n",
       "      <td>31.500000</td>\n",
       "      <td>21.000000</td>\n",
       "      <td>3.150000</td>\n",
       "      <td>50.000000</td>\n",
       "      <td>1.000000</td>\n",
       "      <td>4.000000</td>\n",
       "      <td>500.000000</td>\n",
       "      <td>200.000000</td>\n",
       "    </tr>\n",
       "    <tr>\n",
       "      <th>75%</th>\n",
       "      <td>46.750000</td>\n",
       "      <td>22.000000</td>\n",
       "      <td>3.400000</td>\n",
       "      <td>55.000000</td>\n",
       "      <td>2.000000</td>\n",
       "      <td>4.000000</td>\n",
       "      <td>600.000000</td>\n",
       "      <td>300.000000</td>\n",
       "    </tr>\n",
       "    <tr>\n",
       "      <th>max</th>\n",
       "      <td>62.000000</td>\n",
       "      <td>26.000000</td>\n",
       "      <td>3.900000</td>\n",
       "      <td>80.000000</td>\n",
       "      <td>4.000000</td>\n",
       "      <td>6.000000</td>\n",
       "      <td>1400.000000</td>\n",
       "      <td>900.000000</td>\n",
       "    </tr>\n",
       "  </tbody>\n",
       "</table>\n",
       "</div>"
      ],
      "text/plain": [
       "              ID        Age        GPA     Salary  Social Networking  \\\n",
       "count  62.000000  62.000000  62.000000  62.000000          62.000000   \n",
       "mean   31.500000  21.129032   3.129032  48.548387           1.516129   \n",
       "std    18.041619   1.431311   0.377388  12.080912           0.844305   \n",
       "min     1.000000  18.000000   2.300000  25.000000           0.000000   \n",
       "25%    16.250000  20.000000   2.900000  40.000000           1.000000   \n",
       "50%    31.500000  21.000000   3.150000  50.000000           1.000000   \n",
       "75%    46.750000  22.000000   3.400000  55.000000           2.000000   \n",
       "max    62.000000  26.000000   3.900000  80.000000           4.000000   \n",
       "\n",
       "       Satisfaction     Spending  Text Messages  \n",
       "count     62.000000    62.000000      62.000000  \n",
       "mean       3.741935   482.016129     246.209677  \n",
       "std        1.213793   221.953805     214.465950  \n",
       "min        1.000000   100.000000       0.000000  \n",
       "25%        3.000000   312.500000     100.000000  \n",
       "50%        4.000000   500.000000     200.000000  \n",
       "75%        4.000000   600.000000     300.000000  \n",
       "max        6.000000  1400.000000     900.000000  "
      ]
     },
     "execution_count": 279,
     "metadata": {},
     "output_type": "execute_result"
    }
   ],
   "source": [
    "df_2.describe()"
   ]
  },
  {
   "cell_type": "code",
   "execution_count": 38,
   "id": "ad4079a0",
   "metadata": {},
   "outputs": [
    {
     "name": "stderr",
     "output_type": "stream",
     "text": [
      "C:\\Users\\Athulya\\anaconda3\\lib\\site-packages\\seaborn\\distributions.py:2557: FutureWarning: `distplot` is a deprecated function and will be removed in a future version. Please adapt your code to use either `displot` (a figure-level function with similar flexibility) or `histplot` (an axes-level function for histograms).\n",
      "  warnings.warn(msg, FutureWarning)\n"
     ]
    },
    {
     "data": {
      "text/plain": [
       "<matplotlib.legend.Legend at 0x1df823898e0>"
      ]
     },
     "execution_count": 38,
     "metadata": {},
     "output_type": "execute_result"
    },
    {
     "data": {
      "image/png": "[encoded data removed]",
      "text/plain": [
       "<Figure size 720x360 with 1 Axes>"
      ]
     },
     "metadata": {
      "needs_background": "light"
     },
     "output_type": "display_data"
    }
   ],
   "source": [
    "plt.figure(figsize=(10, 5))\n",
    "sns.distplot(df_2['GPA'])\n",
    "plt.axvline(df_2['GPA'].mean(),label='Mean',color='black')\n",
    "plt.axvline(df_2['GPA'].median(),label='Median',color='red')\n",
    "plt.title('Distribution of GPA')\n",
    "plt.legend()"
   ]
  },
  {
   "cell_type": "code",
   "execution_count": 39,
   "id": "b7540ee9",
   "metadata": {},
   "outputs": [
    {
     "name": "stderr",
     "output_type": "stream",
     "text": [
      "C:\\Users\\Athulya\\anaconda3\\lib\\site-packages\\seaborn\\distributions.py:2557: FutureWarning: `distplot` is a deprecated function and will be removed in a future version. Please adapt your code to use either `displot` (a figure-level function with similar flexibility) or `histplot` (an axes-level function for histograms).\n",
      "  warnings.warn(msg, FutureWarning)\n"
     ]
    },
    {
     "data": {
      "text/plain": [
       "<matplotlib.legend.Legend at 0x1df81dacf10>"
      ]
     },
     "execution_count": 39,
     "metadata": {},
     "output_type": "execute_result"
    },
    {
     "data": {
      "image/png": "[encoded data removed]",
      "text/plain": [
       "<Figure size 720x360 with 1 Axes>"
      ]
     },
     "metadata": {
      "needs_background": "light"
     },
     "output_type": "display_data"
    }
   ],
   "source": [
    "plt.figure(figsize=(10, 5))\n",
    "sns.distplot(df_2['Salary'])\n",
    "plt.axvline(df_2['Salary'].mean(),label='Mean',color='black')\n",
    "plt.axvline(df_2['Salary'].median(),label='Median',color='red')\n",
    "plt.title('Distribution of Salary')\n",
    "plt.legend()"
   ]
  },
  {
   "cell_type": "code",
   "execution_count": 40,
   "id": "d1fda872",
   "metadata": {},
   "outputs": [
    {
     "name": "stderr",
     "output_type": "stream",
     "text": [
      "C:\\Users\\Athulya\\anaconda3\\lib\\site-packages\\seaborn\\distributions.py:2557: FutureWarning: `distplot` is a deprecated function and will be removed in a future version. Please adapt your code to use either `displot` (a figure-level function with similar flexibility) or `histplot` (an axes-level function for histograms).\n",
      "  warnings.warn(msg, FutureWarning)\n"
     ]
    },
    {
     "data": {
      "text/plain": [
       "<matplotlib.legend.Legend at 0x1df81ea0880>"
      ]
     },
     "execution_count": 40,
     "metadata": {},
     "output_type": "execute_result"
    },
    {
     "data": {
      "image/png": "[encoded data removed]",
      "text/plain": [
       "<Figure size 720x360 with 1 Axes>"
      ]
     },
     "metadata": {
      "needs_background": "light"
     },
     "output_type": "display_data"
    }
   ],
   "source": [
    "plt.figure(figsize=(10, 5))\n",
    "sns.distplot(df_2['Spending'])\n",
    "plt.axvline(df_2['Spending'].mean(),label='Mean',color='black')\n",
    "plt.axvline(df_2['Spending'].median(),label='Median',color='red')\n",
    "plt.title('Distribution of Spending')\n",
    "plt.legend()"
   ]
  },
  {
   "cell_type": "code",
   "execution_count": 41,
   "id": "7817d5f2",
   "metadata": {},
   "outputs": [
    {
     "name": "stderr",
     "output_type": "stream",
     "text": [
      "C:\\Users\\Athulya\\anaconda3\\lib\\site-packages\\seaborn\\distributions.py:2557: FutureWarning: `distplot` is a deprecated function and will be removed in a future version. Please adapt your code to use either `displot` (a figure-level function with similar flexibility) or `histplot` (an axes-level function for histograms).\n",
      "  warnings.warn(msg, FutureWarning)\n"
     ]
    },
    {
     "data": {
      "text/plain": [
       "<matplotlib.legend.Legend at 0x1df81f2baf0>"
      ]
     },
     "execution_count": 41,
     "metadata": {},
     "output_type": "execute_result"
    },
    {
     "data": {
      "image/png": "[encoded data removed]",
      "text/plain": [
       "<Figure size 720x360 with 1 Axes>"
      ]
     },
     "metadata": {
      "needs_background": "light"
     },
     "output_type": "display_data"
    }
   ],
   "source": [
    "plt.figure(figsize=(10, 5))\n",
    "sns.distplot(df_2['Text Messages'])\n",
    "plt.axvline(df_2['Text Messages'].mean(),label='Mean',color='black')\n",
    "plt.axvline(df_2['Text Messages'].median(),label='Median',color='red')\n",
    "plt.title('Distribution of Text Messages')\n",
    "plt.legend()"
   ]
  },
  {
   "cell_type": "code",
   "execution_count": 209,
   "id": "992bf0b3",
   "metadata": {},
   "outputs": [
    {
     "name": "stdout",
     "output_type": "stream",
     "text": [
      "ShapiroResult(statistic=0.9685361981391907, pvalue=0.11204058676958084)\n"
     ]
    }
   ],
   "source": [
    "print(stats.shapiro(df_2['GPA']))"
   ]
  },
  {
   "cell_type": "code",
   "execution_count": 227,
   "id": "5986b678",
   "metadata": {},
   "outputs": [
    {
     "name": "stdout",
     "output_type": "stream",
     "text": [
      "ShapiroResult(statistic=0.9565856456756592, pvalue=0.028000956401228905)\n"
     ]
    }
   ],
   "source": [
    "print(stats.shapiro(df_2['Salary']))"
   ]
  },
  {
   "cell_type": "code",
   "execution_count": 228,
   "id": "9991e4cb",
   "metadata": {},
   "outputs": [
    {
     "name": "stdout",
     "output_type": "stream",
     "text": [
      "ShapiroResult(statistic=0.8777452111244202, pvalue=1.6854661225806922e-05)\n"
     ]
    }
   ],
   "source": [
    "print(stats.shapiro(df_2['Spending']))"
   ]
  },
  {
   "cell_type": "code",
   "execution_count": 229,
   "id": "bdb83bca",
   "metadata": {},
   "outputs": [
    {
     "name": "stdout",
     "output_type": "stream",
     "text": [
      "ShapiroResult(statistic=0.8594191074371338, pvalue=4.324040673964191e-06)\n"
     ]
    }
   ],
   "source": [
    "print(stats.shapiro(df_2['Text Messages']))"
   ]
  },
  {
   "cell_type": "code",
   "execution_count": null,
   "id": "de2ea942",
   "metadata": {},
   "outputs": [],
   "source": [
    "Problem 2\n",
    "\n",
    "The Student News Service at Clear Mountain State University (CMSU) has decided to gather data about the undergraduate students that attend CMSU. CMSU creates and distributes a survey of 14 questions and receives responses from 62 undergraduates (stored in the Survey data set).\n",
    "\n",
    "\n",
    "\n",
    "df_2 = pd.read_csv('Survey-1.csv')\n",
    "\n",
    "df_2.head()\n",
    "\n",
    "2.1. For this data, construct the following contingency tables (Keep Gender as row variable)\n",
    "\n",
    "\n",
    "\n",
    "2.1.1. Gender and Major\n",
    "\n",
    "\n",
    "\n",
    "from scipy.stats import chi2_contingency\n",
    "\n",
    "data_gender_major = pd.crosstab(df_2['Gender'], df_2['Major'],margins=True)\n",
    "\n",
    "data_gender_major\n",
    "\n",
    "2.1.2. Gender and Grad Intention\n",
    "\n",
    "data_gender_gradintention = pd.crosstab(df_2['Gender'], df_2['Grad Intention'],margins=True)\n",
    "\n",
    "data_gender_gradintention\n",
    "\n",
    "2.1.3. Gender and Employment\n",
    "\n",
    "data_gender_employment = pd.crosstab(df_2['Gender'], df_2['Employment'],margins=True)\n",
    "\n",
    "data_gender_employment\n",
    "\n",
    "2.1.4. Gender and Computer\n",
    "\n",
    "data_gender_computer = pd.crosstab(df_2['Gender'], df_2['Computer'],margins=True)\n",
    "\n",
    "data_gender_computer\n",
    "\n",
    "2.2. Assume that the sample is representative of the population of CMSU. Based on the data, answer the following question:\n",
    "\n",
    "\n",
    "\n",
    "2.2.1. What is the probability that a randomly selected CMSU student will be male?\n",
    "\n",
    "\n",
    "\n",
    "df_2.shape\n",
    "\n",
    "df_2.info()\n",
    "\n",
    "df_2['Gender'].nunique()\n",
    "\n",
    "df_2_male = df_2[df_2['Gender']=='Male']\n",
    "\n",
    "df_2_male.shape\n",
    "\n",
    "Total_male = 29\n",
    "Total_students = 62\n",
    "Prob_male = round(Total_male/Total_students,4)*100\n",
    "print('Probability of males is %1.2f' % Prob_male +'%')\n",
    "\n",
    "2.2.2. What is the probability that a randomly selected CMSU student will be female?\n",
    "\n",
    "\n",
    "\n",
    "df_2_female = df_2[df_2['Gender']=='Female']\n",
    "\n",
    "df_2_female.shape\n",
    "\n",
    "Total_female = 33\n",
    "Total_students = 62\n",
    "Prob_female = round(Total_female/Total_students,4)*100\n",
    "print('Probability of females is %1.2f' % Prob_female +'%')\n",
    "\n",
    "2.3. Assume that the sample is representative of the population of CMSU. Based on the data, answer the following question:\n",
    "\n",
    "\n",
    "\n",
    "2.3.1. Find the conditional probability of different majors among the male students in CMSU.\n",
    "\n",
    "\n",
    "\n",
    "Using the contingency table in 2.1.1, we got the total numbers of males and females opting for different majors.\n",
    "\n",
    "data_gender_major\n",
    "\n",
    "Male_accounting = 4\n",
    "Total_male = 29\n",
    "Prob_male_accounting = round(Male_accounting/Total_male,4)*100\n",
    "print('Probability of males opting for accounting is %1.2f' % Prob_male_accounting +'%')\n",
    "\n",
    "Male_CIS = 1\n",
    "Total_male = 29\n",
    "Prob_male_CIS = round(Male_CIS/Total_male,4)*100\n",
    "print('Probability of males opting for CIS is %1.2f' % Prob_male_CIS +'%')\n",
    "\n",
    "Male_Economics_Finance = 4\n",
    "Total_male = 29\n",
    "Prob_male_Economics_Finance = round(Male_Economics_Finance/Total_male,4)*100\n",
    "print('Probability of males opting for economics/finance is %1.2f' % Prob_male_Economics_Finance +'%')\n",
    "\n",
    "Male_International_Business = 2\n",
    "Total_male = 29\n",
    "Prob_male_International_Business = round(Male_International_Business/Total_male,4)*100\n",
    "print('Probability of males opting for international business is %1.2f' % Prob_male_International_Business +'%')\n",
    "\n",
    "Male_management = 6\n",
    "Total_male = 29\n",
    "Prob_male_management = round(Male_management/Total_male,4)*100\n",
    "print('Probability of males opting for management is %1.2f' % Prob_male_management +'%')\n",
    "\n",
    "Male_other = 4\n",
    "Total_male = 29\n",
    "Prob_male_other = round(Male_other/Total_male,4)*100\n",
    "print('Probability of males opting for other is %1.2f' % Prob_male_other +'%')\n",
    "\n",
    "Male_retailing_marketing = 5\n",
    "Total_male = 29\n",
    "Prob_male_retailing_marketing = round(Male_retailing_marketing/Total_male,4)*100\n",
    "print('Probability of males opting for retailing/marketing is %1.2f' % Prob_male_retailing_marketing +'%')\n",
    "\n",
    "Male_undecided = 3\n",
    "Total_male = 29\n",
    "Prob_male_undecided = round(Male_undecided/Total_male,4)*100\n",
    "print('Probability of males who have not decided the major is %1.2f' % Prob_male_undecided +'%')\n",
    "\n",
    "From this output, we can easily say that most of the male students prefer management as majors and the least preferred major is CIS\n",
    "\n",
    "2.3.2 Find the conditional probability of different majors among the female students of CMSU.\n",
    "\n",
    "\n",
    "\n",
    "Using the contingency table in 2.1.1, we got the total numbers of males and females opting for different majors.\n",
    "\n",
    "data_gender_major\n",
    "\n",
    "Female_accounting = 3\n",
    "Total_female = 33\n",
    "Prob_female_accounting = round(Female_accounting/Total_female,4)*100\n",
    "print('Probability of females opting for accounting is %1.2f' % Prob_female_accounting +'%')\n",
    "\n",
    "Female_CIS = 3\n",
    "Total_female = 33\n",
    "Prob_female_CIS = round(Female_CIS/Total_female,4)*100\n",
    "print('Probability of females opting for CIS is %1.2f' % Prob_female_CIS +'%')\n",
    "\n",
    "Female_Economics_Finance = 7\n",
    "Total_female = 33\n",
    "Prob_female_Economics_Finance = round(Female_Economics_Finance/Total_female,4)*100\n",
    "print('Probability of females opting for economics/finance is %1.2f' % Prob_female_Economics_Finance +'%')\n",
    "\n",
    "Female_International_Business = 4\n",
    "Total_female = 33\n",
    "Prob_female_International_Business = round(Female_International_Business/Total_female,4)*100\n",
    "print('Probability of females opting for international business is %1.2f' % Prob_female_International_Business +'%')\n",
    "\n",
    "Female_management = 4\n",
    "Total_female = 33\n",
    "Prob_female_management = round(Female_management/Total_female,4)*100\n",
    "print('Probability of females opting for management is %1.2f' % Prob_female_management +'%')\n",
    "\n",
    "Female_other = 3\n",
    "Total_female = 33\n",
    "Prob_female_other = round(Female_other/Total_female,4)*100\n",
    "print('Probability of females opting for other is %1.2f' % Prob_female_other +'%')\n",
    "\n",
    "Female_retailing_marketing = 9\n",
    "Total_female = 33\n",
    "Prob_female_retailing_marketing = round(Female_retailing_marketing/Total_female,4)*100\n",
    "print('Probability of females opting for retailing/marketing is %1.2f' % Prob_female_retailing_marketing +'%')\n",
    "\n",
    "Female_undecided = 0\n",
    "Total_female = 33\n",
    "Prob_female_undecided = round(Female_undecided/Total_female,4)*100\n",
    "print('Probability of females who have not decided the major is %1.2f' % Prob_female_undecided +'%')\n",
    "\n",
    "From this output, we can easily say that most of the female students prefer retailing/marketing as majors.\n",
    "\n",
    "2.4. Assume that the sample is a representative of the population of CMSU. Based on the data, answer the following question:\n",
    "\n",
    "\n",
    "\n",
    "2.4.1. Find the probability that a randomly chosen student is a male and intends to graduate.\n",
    "\n",
    "\n",
    "\n",
    "Using the contingency table in 2.1.2, we got the total numbers of males and females who intend to graduate.\n",
    "\n",
    "data_gender_gradintention\n",
    "\n",
    "Total_students = 62\n",
    "Male_Grad_intention = 17\n",
    "Prob_male_grad_intention = round(Male_Grad_intention/Total_students,4)*100\n",
    "print('Probability of males who intend to graduate is %1.2f' % Prob_male_grad_intention +'%')\n",
    "\n",
    "2.4.2 Find the probability that a randomly selected student is a female and does NOT have a laptop. \n",
    "\n",
    "\n",
    "\n",
    "Using the contingency table in 2.1.4, we got the total numbers of males and females who have a desktop, laptop or a tablet\n",
    "\n",
    "data_gender_computer\n",
    "\n",
    "Total_students = 62\n",
    "Female_desktop = 2\n",
    "Female_tablet = 2\n",
    "Female_no_laptop = Female_desktop + Female_tablet\n",
    "Prob_female_no_laptop = round(Female_no_laptop/Total_students,4)*100\n",
    "print('Probability of females who do not have a laptop is %1.2f' % Prob_female_no_laptop +'%')\n",
    "\n",
    "2.5. Assume that the sample is representative of the population of CMSU. Based on the data, answer the following question:\n",
    "\n",
    "\n",
    "\n",
    "2.5.1. Find the probability that a randomly chosen student is a male or has full-time employment?\n",
    "\n",
    "\n",
    "\n",
    "Using the contingency table in 2.1.3, we got the total numbers of males and females who are employed.\n",
    "\n",
    "data_gender_employment\n",
    "\n",
    "Total_male = 29\n",
    "Total_students = 62\n",
    "Male_Full_employment = 7\n",
    "Total_full_time_employment = 10\n",
    "Prob_male_or_fulltimeemployment = round(((Total_male+Total_full_time_employment)-Male_Full_employment)/Total_students,4)*100\n",
    "print('Probability that a randomly chosen student is a male or has full-time employment is %1.2f' % Prob_male_or_fulltimeemployment +'%')\n",
    "\n",
    "\n",
    "2.5.2. Find the conditional probability that given a female student is randomly chosen, she is majoring in international business or management.\n",
    "\n",
    "\n",
    "\n",
    "Using the contingency table in 2.1.1, we got the total numbers of males and females opting for different majors.\n",
    "\n",
    "data_gender_major\n",
    "\n",
    "Probability (International Business/Management | Female)\n",
    "\n",
    "Total_female = 33\n",
    "Female_International_Business = 4\n",
    "Female_management = 4\n",
    "Prob_female_international_business_management = round((Female_International_Business+Female_management)/Total_female,4)*100\n",
    "print('Probability that a female student is randomly chosen, she is majoring in international business or management is %1.2f' % Prob_female_international_business_management +'%')\n",
    "\n",
    "2.6.  Construct a contingency table of Gender and Intent to Graduate at 2 levels (Yes/No). The Undecided students are not considered now and the table is a 2x2 table. Do you think the graduate intention and being female are independent events?\n",
    "\n",
    "\n",
    "\n",
    "df_2_grad_yes = df_2[df_2['Grad Intention']=='Yes']\n",
    "df_2_grad_no = df_2[df_2['Grad Intention']=='No']\n",
    "df_2_2levels = pd.concat ([df_2_grad_yes,df_2_grad_no], axis = 0, sort = False)\n",
    "\n",
    "df_2_2levels.shape\n",
    "\n",
    "data_gender_gradintention_2levels = pd.crosstab(df_2_2levels['Gender'], df_2_2levels['Grad Intention'],margins=False)\n",
    "\n",
    "data_gender_gradintention_2levels\n",
    "\n",
    "Grad = 28/40\n",
    "Female = 20/40\n",
    "Female_and_Grad = 11/40\n",
    "\n",
    "if Grad*Female == Female_and_Grad:\n",
    "    print ('The events are independent')\n",
    "else:\n",
    "    print ('The events are not independent')\n",
    "\n",
    "2.7. Note that there are four numerical (continuous) variables in the data set, GPA, Salary, Spending, and Text Messages.\n",
    "\n",
    "\n",
    "\n",
    "Answer the following questions based on the data\n",
    "\n",
    "\n",
    "\n",
    "2.7.1. If a student is chosen randomly, what is the probability that his/her GPA is less than 3?\n",
    "\n",
    "\n",
    "\n",
    "df_2['GPA'].unique()\n",
    "\n",
    "df_2['GPA'].value_counts(sort=True)\n",
    "\n",
    "GPA_lessthan3 = 6 + 4 + 3 + 2 + 1 + 1\n",
    "Total_students = 62\n",
    "Prob_GPAlessthan3 = round(GPA_lessthan3/Total_students,4)*100\n",
    "print('Probability of a student that his/her GPA is less than 3 is %1.2f' % Prob_GPAlessthan3 +'%')\n",
    "\n",
    "2.7.2. Find the conditional probability that a randomly selected male earns 50 or more. Find the conditional probability that a randomly selected female earns 50 or more.\n",
    "\n",
    "\n",
    "\n",
    "data_gender_salary = pd.crosstab(df_2['Gender'], df_2['Salary'],margins=True)\n",
    "\n",
    "data_gender_salary\n",
    "\n",
    "Probability (Male|50 or more)\n",
    "\n",
    "Total_male = 29\n",
    "Salary_male_50ormore = 4+1+1+3+3+1+0+0+1\n",
    "Prob_male_50ormore = round(Salary_male_50ormore/Total_male,4)*100\n",
    "print('Probability that a randomly selected male earns 50 or more is %1.2f' % Prob_male_50ormore +'%')\n",
    "\n",
    "Probability (Female|50 or more)\n",
    "\n",
    "Total_female = 33\n",
    "Salary_female_50ormore = 5+0+0+5+5+0+1+1+1\n",
    "Prob_female_50ormore = round(Salary_female_50ormore/Total_female,4)*100\n",
    "print('Probability that a randomly selected female earns 50 or more is %1.2f' % Prob_female_50ormore +'%')\n",
    "\n",
    "2.8. Note that there are four numerical (continuous) variables in the data set, GPA, Salary, Spending, and Text Messages. For each of them comment whether they follow a normal distribution. Write a note summarizing your conclusions.\n",
    "\n",
    "\n",
    "\n",
    "df_2.describe()\n",
    "\n",
    "plt.figure(figsize=(10, 5))\n",
    "sns.distplot(df_2['GPA'])\n",
    "plt.axvline(df_2['GPA'].mean(),label='Mean',color='black')\n",
    "plt.axvline(df_2['GPA'].median(),label='Median',color='red')\n",
    "plt.title('Distribution of GPA')\n",
    "plt.legend()\n",
    "\n",
    "plt.figure(figsize=(10, 5))\n",
    "sns.distplot(df_2['Salary'])\n",
    "plt.axvline(df_2['Salary'].mean(),label='Mean',color='black')\n",
    "plt.axvline(df_2['Salary'].median(),label='Median',color='red')\n",
    "plt.title('Distribution of Salary')\n",
    "plt.legend()\n",
    "\n",
    "plt.figure(figsize=(10, 5))\n",
    "sns.distplot(df_2['Spending'])\n",
    "plt.axvline(df_2['Spending'].mean(),label='Mean',color='black')\n",
    "plt.axvline(df_2['Spending'].median(),label='Median',color='red')\n",
    "plt.title('Distribution of Spending')\n",
    "plt.legend()\n",
    "\n",
    "plt.figure(figsize=(10, 5))\n",
    "sns.distplot(df_2['Text Messages'])\n",
    "plt.axvline(df_2['Text Messages'].mean(),label='Mean',color='black')\n",
    "plt.axvline(df_2['Text Messages'].median(),label='Median',color='red')\n",
    "plt.title('Distribution of Text Messages')\n",
    "plt.legend()\n",
    "\n",
    "print(stats.shapiro(df_2['GPA']))\n",
    "\n",
    "print(stats.shapiro(df_2['Salary']))\n",
    "\n",
    "print(stats.shapiro(df_2['Spending']))\n",
    "\n",
    "print(stats.shapiro(df_2['Text Messages']))"
   ]
  }
 ],
 "metadata": {
  "kernelspec": {
   "display_name": "Python 3",
   "language": "python",
   "name": "python3"
  },
  "language_info": {
   "codemirror_mode": {
    "name": "ipython",
    "version": 3
   },
   "file_extension": ".py",
   "mimetype": "text/x-python",
   "name": "python",
   "nbconvert_exporter": "python",
   "pygments_lexer": "ipython3",
   "version": "3.8.8"
  }
 },
 "nbformat": 4,
 "nbformat_minor": 5
}
